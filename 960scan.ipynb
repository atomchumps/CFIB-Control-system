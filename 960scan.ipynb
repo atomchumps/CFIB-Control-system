{
 "cells": [
  {
   "cell_type": "code",
   "execution_count": null,
   "metadata": {},
   "outputs": [],
   "source": [
    "#!/usr/bin/env python\n",
    "\n",
    "'''\n",
    "960scan.py: A program measuring the count rate from the channel eletron multiplier and plotting it in real time.\n",
    "A. J. McCulloch, November 2018\n",
    "'''\n",
    "\n",
    "####################################################################################################\n",
    "\n",
    "####################################################################################################\n",
    "#Import modules\n",
    "####################################################################################################\n",
    "\n",
    "from PyDAQmx import * #PyDAQmx module for working with the NI DAQ\n",
    "import ctypes #Module required for creating C type ojects - required for some PyDAQmx operations\n",
    "import time #Time access and conversions\n",
    "from pylab import * #For interactive calculations and plotting\n",
    "from CFIBfunctions import * #Function definitions\n",
    "\n",
    "def makeramp(minval, maxval, points):\n",
    "    ramp = np.linspace(minval, maxval, points)\n",
    "    return ramp\n",
    "\n",
    "ramp_960 = makeramp(-1.5, 1.5, 25)\n",
    "dwelltime = 0.5\n",
    "lambda_960 = [(i*dwelltime, ramp_960[i]) for i in range(len(ramp_960))]\n",
    "lambda_960.append(((len(ramp_960))*dwelltime, ramp_960[-1]))\n",
    "#if stabilise == True:\n",
    "v, t = zip(*lambda_960)\n",
    "plt.step(v, t, where = 'post')\n",
    "plt.xlabel('Time [s]')\n",
    "plt.ylabel('Voltage [V]')\n",
    "plt.show()"
   ]
  }
 ],
 "metadata": {
  "kernelspec": {
   "display_name": "Python 3",
   "language": "python",
   "name": "python3"
  },
  "language_info": {
   "codemirror_mode": {
    "name": "ipython",
    "version": 3
   },
   "file_extension": ".py",
   "mimetype": "text/x-python",
   "name": "python",
   "nbconvert_exporter": "python",
   "pygments_lexer": "ipython3",
   "version": "3.6.4"
  }
 },
 "nbformat": 4,
 "nbformat_minor": 2
}
