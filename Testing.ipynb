{
 "cells": [
  {
   "cell_type": "code",
   "execution_count": 1,
   "metadata": {},
   "outputs": [],
   "source": [
    "from PyDAQmx import *\n",
    "import ctypes\n",
    "from pylab import *"
   ]
  },
  {
   "cell_type": "code",
   "execution_count": 33,
   "metadata": {},
   "outputs": [],
   "source": [
    "class Counter:\n",
    "\n",
    "    \"\"\" A simple measurement of the count rate\n",
    "    Parts taken from https://github.com/MarcoForte/PyDAQmx_Helper/blob/master/pydaqmx_helper/counter.py\n",
    "    \"\"\"\n",
    "\n",
    "    def __init__(self, ctr_physchan = \"/Dev6229/ctr1\"):\n",
    "        self.ctr_physchan = ctr_physchan\n",
    "        self.task = Task()\n",
    "        self.task.CreateCICountEdgesChan(self.ctr_physchan,\"\",DAQmx_Val_Rising,0,DAQmx_Val_CountUp)\n",
    "\n",
    "    def start(self):\n",
    "        \"\"\" Start the counter \"\"\"\n",
    "        self.task.StartTask()\n",
    "\n",
    "#    def read_ai(self):\n",
    "#        self.data = (ctypes.c_int32*1)()\n",
    "#        self.task.ReadCounterScalarU32(10.0,self.data,None)\n",
    "#        return self.data\n",
    "\n",
    "    def stop(self):\n",
    "        \"\"\" Stop the counter and return the count\"\"\"\n",
    "        self.count = (ctypes.c_ulong*4)()\n",
    "        ctypes.cast(self.count, ctypes.POINTER(ctypes.c_ulong))\n",
    "        self.task.ReadCounterScalarU32(10.0,self.count,None)\n",
    "        self.task.StopTask()\n",
    "        return self.count\n",
    "\n",
    "    def getCount(self):\n",
    "        \"\"\" Return a count without stoppping the counter \"\"\"\n",
    "        self.count = (ctypes.c_int32*1)()\n",
    "        ctypes.cast(self.count, ctypes.POINTER(ctypes.c_int32))\n",
    "        self.task.ReadCounterScalarU32(10.0,self.count,None)\n",
    "        return self.count.value\n",
    "\n",
    "    def close(self):\n",
    "        \"\"\" Close and clear the task \"\"\" \n",
    "        self.task.StopTask()\n",
    "        self.task.ClearTask()"
   ]
  },
  {
   "cell_type": "code",
   "execution_count": 37,
   "metadata": {},
   "outputs": [],
   "source": [
    "count = Counter()\n",
    "count.start()"
   ]
  },
  {
   "cell_type": "code",
   "execution_count": 38,
   "metadata": {},
   "outputs": [],
   "source": [
    "cval = count.stop()"
   ]
  },
  {
   "cell_type": "code",
   "execution_count": 39,
   "metadata": {},
   "outputs": [],
   "source": [
    "count.close()"
   ]
  },
  {
   "cell_type": "code",
   "execution_count": 40,
   "metadata": {},
   "outputs": [
    {
     "data": {
      "text/plain": [
       "<__main__.c_ulong_Array_4 at 0x29068919648>"
      ]
     },
     "execution_count": 40,
     "metadata": {},
     "output_type": "execute_result"
    }
   ],
   "source": [
    "cval"
   ]
  },
  {
   "cell_type": "code",
   "execution_count": 42,
   "metadata": {},
   "outputs": [
    {
     "ename": "AttributeError",
     "evalue": "'c_ulong_Array_4' object has no attribute 'values'",
     "output_type": "error",
     "traceback": [
      "\u001b[1;31m---------------------------------------------------------------------------\u001b[0m",
      "\u001b[1;31mAttributeError\u001b[0m                            Traceback (most recent call last)",
      "\u001b[1;32m<ipython-input-42-188a0e00c008>\u001b[0m in \u001b[0;36m<module>\u001b[1;34m()\u001b[0m\n\u001b[1;32m----> 1\u001b[1;33m \u001b[0mcval\u001b[0m\u001b[1;33m.\u001b[0m\u001b[0mvalues\u001b[0m\u001b[1;33m\u001b[0m\u001b[0m\n\u001b[0m",
      "\u001b[1;31mAttributeError\u001b[0m: 'c_ulong_Array_4' object has no attribute 'values'"
     ]
    }
   ],
   "source": [
    "cval.values"
   ]
  },
  {
   "cell_type": "code",
   "execution_count": 44,
   "metadata": {},
   "outputs": [
    {
     "ename": "TypeError",
     "evalue": "an integer is required (got type c_ulong_Array_4)",
     "output_type": "error",
     "traceback": [
      "\u001b[1;31m---------------------------------------------------------------------------\u001b[0m",
      "\u001b[1;31mTypeError\u001b[0m                                 Traceback (most recent call last)",
      "\u001b[1;32m<ipython-input-44-8241fd6af175>\u001b[0m in \u001b[0;36m<module>\u001b[1;34m()\u001b[0m\n\u001b[1;32m----> 1\u001b[1;33m \u001b[0mctypes\u001b[0m\u001b[1;33m.\u001b[0m\u001b[0mc_ulong\u001b[0m\u001b[1;33m(\u001b[0m\u001b[0mcval\u001b[0m\u001b[1;33m)\u001b[0m\u001b[1;33m.\u001b[0m\u001b[0mvalue\u001b[0m\u001b[1;33m\u001b[0m\u001b[0m\n\u001b[0m",
      "\u001b[1;31mTypeError\u001b[0m: an integer is required (got type c_ulong_Array_4)"
     ]
    }
   ],
   "source": [
    "ctypes.c_ulong(cval).value"
   ]
  },
  {
   "cell_type": "code",
   "execution_count": null,
   "metadata": {},
   "outputs": [],
   "source": []
  }
 ],
 "metadata": {
  "kernelspec": {
   "display_name": "Python 3",
   "language": "python",
   "name": "python3"
  },
  "language_info": {
   "codemirror_mode": {
    "name": "ipython",
    "version": 3
   },
   "file_extension": ".py",
   "mimetype": "text/x-python",
   "name": "python",
   "nbconvert_exporter": "python",
   "pygments_lexer": "ipython3",
   "version": "3.6.4"
  }
 },
 "nbformat": 4,
 "nbformat_minor": 2
}
