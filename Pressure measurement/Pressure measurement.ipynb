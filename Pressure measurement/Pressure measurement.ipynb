{
 "cells": [
  {
   "cell_type": "code",
   "execution_count": 70,
   "metadata": {},
   "outputs": [],
   "source": [
    "from __future__ import division\n",
    "from pylab import *\n",
    "import os\n",
    "import sys\n",
    "import time\n",
    "from PyDAQmx import *"
   ]
  },
  {
   "cell_type": "code",
   "execution_count": 71,
   "metadata": {},
   "outputs": [],
   "source": [
    "ai_physchan = '/Dev6229/ai2'\n",
    "\n",
    "sleep_time = 0.05\n",
    "smoothing_time_constant = 2\n",
    "samps_per_chan = 100\n",
    "sample_rate = 100\n",
    "buffer_size = 1000\n",
    "ai_task = Task()\n",
    "read = int32()\n",
    "ai_data = zeros(samps_per_chan)"
   ]
  },
  {
   "cell_type": "code",
   "execution_count": 72,
   "metadata": {},
   "outputs": [],
   "source": [
    "ai_task.CreateAIVoltageChan(ai_physchan,'',DAQmx_Val_Cfg_Default,-10.0,10.0,DAQmx_Val_Volts,None)\n",
    "ai_task.CfgSampClkTiming('',sample_rate,DAQmx_Val_Rising,DAQmx_Val_ContSamps,buffer_size)"
   ]
  },
  {
   "cell_type": "code",
   "execution_count": 73,
   "metadata": {},
   "outputs": [
    {
     "ename": "PALResourceReservedError",
     "evalue": "The specified resource is reserved. The operation could not be completed as specified.\nTask Name: _unnamedTask<9>\n\nStatus Code: -50103\n in function DAQmxStartTask",
     "output_type": "error",
     "traceback": [
      "\u001b[1;31m---------------------------------------------------------------------------\u001b[0m",
      "\u001b[1;31mPALResourceReservedError\u001b[0m                  Traceback (most recent call last)",
      "\u001b[1;32m<ipython-input-73-42bc3c71794c>\u001b[0m in \u001b[0;36m<module>\u001b[1;34m()\u001b[0m\n\u001b[1;32m----> 1\u001b[1;33m \u001b[0mai_task\u001b[0m\u001b[1;33m.\u001b[0m\u001b[0mStartTask\u001b[0m\u001b[1;33m(\u001b[0m\u001b[1;33m)\u001b[0m\u001b[1;33m\u001b[0m\u001b[0m\n\u001b[0m\u001b[0;32m      2\u001b[0m \u001b[1;33m\u001b[0m\u001b[0m\n\u001b[0;32m      3\u001b[0m \u001b[1;32mfor\u001b[0m \u001b[0mx\u001b[0m \u001b[1;32min\u001b[0m \u001b[0mrange\u001b[0m\u001b[1;33m(\u001b[0m\u001b[1;36m5\u001b[0m\u001b[1;33m)\u001b[0m\u001b[1;33m:\u001b[0m\u001b[1;33m\u001b[0m\u001b[0m\n\u001b[0;32m      4\u001b[0m     \u001b[0mai_task\u001b[0m\u001b[1;33m.\u001b[0m\u001b[0mReadAnalogF64\u001b[0m\u001b[1;33m(\u001b[0m\u001b[0msamps_per_chan\u001b[0m\u001b[1;33m,\u001b[0m\u001b[1;36m10.0\u001b[0m\u001b[1;33m,\u001b[0m\u001b[0mDAQmx_Val_GroupByChannel\u001b[0m\u001b[1;33m,\u001b[0m\u001b[0mai_data\u001b[0m\u001b[1;33m,\u001b[0m\u001b[0mlen\u001b[0m\u001b[1;33m(\u001b[0m\u001b[0mai_data\u001b[0m\u001b[1;33m)\u001b[0m\u001b[1;33m,\u001b[0m\u001b[0mread\u001b[0m\u001b[1;33m,\u001b[0m\u001b[1;32mNone\u001b[0m\u001b[1;33m)\u001b[0m\u001b[1;33m\u001b[0m\u001b[0m\n\u001b[0;32m      5\u001b[0m     \u001b[0mpumpcurrent\u001b[0m \u001b[1;33m=\u001b[0m \u001b[1;36m10\u001b[0m \u001b[1;33m**\u001b[0m \u001b[1;33m(\u001b[0m\u001b[0mai_data\u001b[0m \u001b[1;33m-\u001b[0m \u001b[1;36m8\u001b[0m\u001b[1;33m)\u001b[0m\u001b[1;33m\u001b[0m\u001b[0m\n",
      "\u001b[1;32mC:\\ProgramData\\Anaconda3\\lib\\site-packages\\PyDAQmx\\Task.py\u001b[0m in \u001b[0;36mStartTask\u001b[1;34m(self)\u001b[0m\n",
      "\u001b[1;32mC:\\ProgramData\\Anaconda3\\lib\\site-packages\\PyDAQmx\\DAQmxFunctions.py\u001b[0m in \u001b[0;36mfunction\u001b[1;34m(taskHandle)\u001b[0m\n",
      "\u001b[1;32mC:\\ProgramData\\Anaconda3\\lib\\site-packages\\PyDAQmx\\DAQmxFunctions.py\u001b[0m in \u001b[0;36mmafunction\u001b[1;34m(*arg)\u001b[0m\n\u001b[0;32m     60\u001b[0m             \u001b[0mDAQmxGetExtendedErrorInfo\u001b[0m\u001b[1;33m(\u001b[0m\u001b[0merrBuff\u001b[0m\u001b[1;33m,\u001b[0m\u001b[1;36m2048\u001b[0m\u001b[1;33m)\u001b[0m\u001b[1;33m\u001b[0m\u001b[0m\n\u001b[0;32m     61\u001b[0m             \u001b[0mexception_class\u001b[0m \u001b[1;33m=\u001b[0m \u001b[0merror_by_number\u001b[0m\u001b[1;33m.\u001b[0m\u001b[0mget\u001b[0m\u001b[1;33m(\u001b[0m\u001b[0merror\u001b[0m\u001b[1;33m,\u001b[0m \u001b[0mDAQError\u001b[0m\u001b[1;33m)\u001b[0m\u001b[1;33m\u001b[0m\u001b[0m\n\u001b[1;32m---> 62\u001b[1;33m             \u001b[1;32mraise\u001b[0m \u001b[0mexception_class\u001b[0m\u001b[1;33m(\u001b[0m\u001b[0merrBuff\u001b[0m\u001b[1;33m.\u001b[0m\u001b[0mvalue\u001b[0m\u001b[1;33m.\u001b[0m\u001b[0mdecode\u001b[0m\u001b[1;33m(\u001b[0m\u001b[1;34m\"utf-8\"\u001b[0m\u001b[1;33m)\u001b[0m\u001b[1;33m,\u001b[0m \u001b[0mf\u001b[0m\u001b[1;33m.\u001b[0m\u001b[0m__name__\u001b[0m\u001b[1;33m)\u001b[0m\u001b[1;33m\u001b[0m\u001b[0m\n\u001b[0m\u001b[0;32m     63\u001b[0m         \u001b[1;32melif\u001b[0m \u001b[0merror\u001b[0m\u001b[1;33m>\u001b[0m\u001b[1;36m0\u001b[0m\u001b[1;33m:\u001b[0m\u001b[1;33m\u001b[0m\u001b[0m\n\u001b[0;32m     64\u001b[0m             \u001b[0merrBuff\u001b[0m \u001b[1;33m=\u001b[0m \u001b[0mcreate_string_buffer\u001b[0m\u001b[1;33m(\u001b[0m\u001b[1;36m2048\u001b[0m\u001b[1;33m)\u001b[0m\u001b[1;33m\u001b[0m\u001b[0m\n",
      "\u001b[1;31mPALResourceReservedError\u001b[0m: The specified resource is reserved. The operation could not be completed as specified.\nTask Name: _unnamedTask<9>\n\nStatus Code: -50103\n in function DAQmxStartTask"
     ]
    }
   ],
   "source": [
    "ai_task.StartTask()\n",
    "\n",
    "for x in range(5):\n",
    "    ai_task.ReadAnalogF64(samps_per_chan,10.0,DAQmx_Val_GroupByChannel,ai_data,len(ai_data),read,None)\n",
    "    pumpcurrent = 10 ** (ai_data - 8)\n",
    "    pressure = (pumpcurrent * 370)/(5000 * 10) \n",
    "    print(\"The measured pressure is {:0.1e} Torr\".format(pressure.mean()))\n",
    "    \n",
    "ai_task.StopTask()"
   ]
  },
  {
   "cell_type": "code",
   "execution_count": null,
   "metadata": {},
   "outputs": [],
   "source": []
  }
 ],
 "metadata": {
  "kernelspec": {
   "display_name": "Python 3",
   "language": "python",
   "name": "python3"
  },
  "language_info": {
   "codemirror_mode": {
    "name": "ipython",
    "version": 3
   },
   "file_extension": ".py",
   "mimetype": "text/x-python",
   "name": "python",
   "nbconvert_exporter": "python",
   "pygments_lexer": "ipython3",
   "version": "3.6.4"
  }
 },
 "nbformat": 4,
 "nbformat_minor": 2
}
