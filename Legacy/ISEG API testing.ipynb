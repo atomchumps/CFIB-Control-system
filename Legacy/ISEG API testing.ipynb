{
 "cells": [
  {
   "cell_type": "code",
   "execution_count": 2,
   "metadata": {},
   "outputs": [],
   "source": [
    "#!/usr/bin/python\n",
    "\n",
    "'''\n",
    "'ISEG API testing.ipynb' is exactly what it says on the box: a testing ground for the ISEG API control.\n",
    "It may be useful to see how I figured out how to do things, but there is a lot of legacy code in here.\n",
    "One should use 'ISEG API.ipynb' to actaully do anything useful\n",
    "\n",
    "A. J. McCulloch, December 2018\n",
    "'''\n",
    "\n",
    "# Import modules\n",
    "import requests\n",
    "import pandas as pd\n",
    "import numpy as np\n",
    "import os\n",
    "import sys\n",
    "import time\n",
    "import json\n",
    "import websocket\n",
    "from enum import Enum #Used to list all constants of a class \n",
    "from datetime import datetime, timezone, timedelta"
   ]
  },
  {
   "cell_type": "code",
   "execution_count": 3,
   "metadata": {},
   "outputs": [],
   "source": [
    "# Define functions unrelated to control system (for programming)\n",
    "\n",
    "# Remove the element \"key\" from a dictionary \"dic\" without mutating the old dictionary\n",
    "def removekey(dic, key):\n",
    "    # Copy the input dictionary dic\n",
    "    r = dict(dic)\n",
    "    # Delete the key for the copied dictionary\n",
    "    del r[key]\n",
    "    # Return the dictionary with key removed\n",
    "    return r\n",
    "\n",
    "#Flatten sublists into a single list\n",
    "def flattenlist(x):\n",
    "    flat_list = [item for sublist in x for item in sublist]\n",
    "    return flat_list\n",
    "\n",
    "#Return a list with entries [d1,d2,range(d3)].\n",
    "#Useful for generating addresses for HV supplies\n",
    "def addressreturn(d1,d2,d3):\n",
    "    addr = [[d1,d2,z] for z in range(d3)]\n",
    "    return addr\n",
    "\n",
    "#Convert UNIX timestamps to a readable (YMD HMS) format \n",
    "def timestampconvert(unixts,toffset=0):    \n",
    "    #Convert the time stamp from UNIX to datetime object\n",
    "    act_time = datetime.fromtimestamp(unixts, timezone.utc)\n",
    "    #If the offset is defined, offset the time stamp\n",
    "    if toffset != 0:\n",
    "        act_time += toffset\n",
    "    #Convert time to UTC time    \n",
    "    #utc_time = act_time.replace(tzinfo=pytz.utc)\n",
    "    #Shift UTC time to local time\n",
    "    local_time = act_time.astimezone()\n",
    "    #print(local_time.strftime(\"%Y-%m-%d %H:%M:%S.%f%z (%Z)\"))\n",
    "    return local_time.strftime('%Y-%m-%d %H:%M:%S (%Z)')"
   ]
  },
  {
   "cell_type": "code",
   "execution_count": 4,
   "metadata": {},
   "outputs": [],
   "source": [
    "#Define the channels for the ISEG HV supply.\n",
    "#Format is module, address, number of channels at that address\n",
    "#module numbers are [0,1,8] (no idea why last module is 8)\n",
    "chaddresses = [[0,0,8],[0,1,4],[0,2,4],[0,3,4],[1,0,4],[8,0,4]]\n",
    "\n",
    "#Voltage limits for channels\n",
    "limits = flattenlist([[1000] * 4, [-1000] * 4,[20000] * 2,[-20000] * 2,[10000] * 4,[-10000] * 4,\\\n",
    "                      [30000] * 2,[-30000] * 2,[30000] * 2,[-30000] * 2])\n",
    "\n",
    "#Channel IDs\n",
    "chids = ('+1kV1','+1kV2','+1kV3','+1kV4','-1kV1','-1kV2','-1kV3','-1kV4',\\\n",
    "        '+20kV1','+20kV2','-20kV1','-20kV2','+10kV1','+10kV2','+10kV3',\\\n",
    "        '+10kV4','-10kV1','-10kV2','-10kV3','-10kV4','+30kV1','+30kV2',\\\n",
    "        '-30kV1','-30kV2','+30kV3','+30kV4','-30kV3','-30kV4')\n",
    "\n",
    "#Generate a list of addresses for each channel\n",
    "chret = [addressreturn(*x) for x in chaddresses]\n",
    "\n",
    "#Fix the channels in modules 1 and 2 (even only)\n",
    "for i in list(range(-2,0)): \n",
    "    chret[i] = [[x[0],x[1],2*x[2]] for x in chret[i]]\n",
    "\n",
    "#Flatten the list of channels\n",
    "chlist = flattenlist(chret)\n",
    "\n",
    "\"\"\" \n",
    "The iCS2 internal clock is incorrect, and at time of writing, an internal time server was unavailable.\n",
    "In more detail, I can't be fucked to make the atomchumps router an NTP, but I found a good resource for\n",
    "doing do; see https://github.com/kvic-z/goodies-asuswrt/wiki/Install-NTP-Daemon-for-Asuswrt-Merlin\n",
    "\"\"\"\n",
    "def timefix():\n",
    "    #Run simple request to get timestamp\n",
    "    tiCS = float(requests.get(apiget+sessionid+'/0/0/*/Status.isAlive').json()[0]['c'][0]['d']['t'])\n",
    "    #Establish difference between timestamp CFIB computer and iCS2\n",
    "    tdiff = datetime.now(timezone.utc) - datetime.fromtimestamp(tiCS,timezone.utc)\n",
    "    return tdiff"
   ]
  },
  {
   "cell_type": "code",
   "execution_count": 5,
   "metadata": {},
   "outputs": [],
   "source": [
    "#Define classes\n",
    "#Trigger warning for advanced Python users\n",
    "\n",
    "#A class to house the iCS tasks.\n",
    "class iCStasks:\n",
    "    \n",
    "    #Status (meausrement)\n",
    "    VMEAS = 'Status.voltageMeasure'\n",
    "    ALIVE = 'Status.isAlive'\n",
    "    TMEAS = 'Status.temperature'\n",
    "    #Control (set values)\n",
    "    POWER = 'Control.on'\n",
    "    VSET = 'Control.voltageSet'\n",
    "\n",
    "    #Can be updated dynamically but not overwritten\n",
    "    #Adapted from http://www.siafoo.net/snippet/108\n",
    "    def __setattr__(self, attr, value):\n",
    "        if hasattr(self, attr):\n",
    "            raise ValueError('Attribute %s already has a value and so cannot be written to' % attr)\n",
    "\n",
    "        self.__dict__[attr] = value\n",
    "\n",
    "#Class to store channel information        \n",
    "class iCSchannels:\n",
    "    \n",
    "    #define a dictionary of limits\n",
    "    limit = dict(zip(chids,limits))\n",
    "    #define a dictionary of channel locations\n",
    "    location = dict(zip(chids,chlist))  \n",
    "     \n",
    "#Used to define a single electrode voltage and execute the adjustment\n",
    "class voltsetsinge:\n",
    "    def __init__(self, electrode, value):\n",
    "        self.electrode = electrode\n",
    "        self.value = value\n",
    "\n",
    "    def setvoltage(self):\n",
    "        #Fix this to make it actually set the voltage, not just print something!\n",
    "        print(\"set the volage of electorde {} to {}\".format(self.electrode, self.value))  "
   ]
  },
  {
   "cell_type": "code",
   "execution_count": 6,
   "metadata": {},
   "outputs": [],
   "source": [
    "#Define functions for communicating with ISEG iCS\n",
    "\n",
    "#ip address of the iCS2\n",
    "#NOTE: this is on the internal atomchumps network; in future we plan to transition to the university network\n",
    "ip = '192.168.68.237'\n",
    "#Websocket port\n",
    "wsport = '8080'\n",
    "#username for iCS2\n",
    "usr = 'admin'\n",
    "#password for the iCS2\n",
    "#NOTE: I have put in zero effort to make this secure and hence do not distribute\n",
    "passwd = 'molly7802'\n",
    "\n",
    "#Shorthand string for '/api/getItem/'\n",
    "apiget = 'http://'+ip+'/api/getItem/'\n",
    "#Shorthand string for '/api/setItem/'\n",
    "apiset = 'http://'+ip+'/api/setItem/'\n",
    "\n",
    "#Returns API Key to be identified for session\n",
    "r = requests.get('http://'+ip+'/api/login/'+usr+'/'+passwd)\n",
    "sessionid = r.json()['i']\n",
    "\n",
    "#Get the time difference between this computer and the iCS2\n",
    "tfix = timefix()\n",
    "\n",
    "'''\n",
    "Functions here are from the testing era and are poorly coded or outdated.\n",
    "They are useful for reference, but will eventually be removed and replaced\n",
    "'''\n",
    "\n",
    "#returns a list of ['channel number', measured voltage, 'unit'] for address x (x <= 3)\n",
    "def returnvolts(x):\n",
    "    #Returns voltage value, unit and timestamp of channel 0 of module with address x of line y\n",
    "    #requests.get(apiget+sessionid+'/0/x/y/Status.voltageMeasure')\n",
    "    #Currently x <= 3, y = [7,3,3,3]\n",
    "    voltages = requests.get(apiget+sessionid+'/0/'+str(x)+'/*/Status.voltageMeasure')\n",
    "\n",
    "    chans = [voltages.json()[0]['c'][i]['d']['p']['c'] for i in range(len(voltages.json()[0]['c']))]\n",
    "    volts = [voltages.json()[0]['c'][i]['d']['v'] for i in range(len(voltages.json()[0]['c']))]\n",
    "    units = [voltages.json()[0]['c'][i]['d']['u'] for i in range(len(voltages.json()[0]['c']))]\n",
    "\n",
    "    comb = [[chans[i],float(volts[i]),units[i]] for i in range(len(chans))]\n",
    "    \n",
    "    return comb\n",
    "\n",
    "#returns a list of ['address', chanel number', measured voltage, 'unit']\n",
    "def returnallvolts():\n",
    "    #Returns voltage value, unit and timestamp of channel 0 of module with address x of line y\n",
    "    #requests.get(apiget+sessionid+'/0/x/y/Status.voltageMeasure')\n",
    "    #Currently x <= 3, y = [7,3,3,3]\n",
    "    voltages = requests.get(apiget+sessionid+'/0/*/*/Status.voltageMeasure')\n",
    "    adds = [voltages.json()[0]['c'][i]['d']['p']['a'] for i in range(len(voltages.json()[0]['c']))]\n",
    "    chans = [voltages.json()[0]['c'][i]['d']['p']['c'] for i in range(len(voltages.json()[0]['c']))]\n",
    "    volts = [voltages.json()[0]['c'][i]['d']['v'] for i in range(len(voltages.json()[0]['c']))]\n",
    "    units = [voltages.json()[0]['c'][i]['d']['u'] for i in range(len(voltages.json()[0]['c']))]\n",
    "\n",
    "    comb = [[adds[i],chans[i],float(volts[i]),units[i]] for i in range(len(chans))]\n",
    "    \n",
    "    return comb\n",
    "\n",
    "#Defintes the voltage values given an input of ['address','line',voltage,'unit'] and powers the line on\n",
    "def setvolts(ts):\n",
    "    requests.get(apiset+sessionid+'/0/'+ts[0]+'/'+ts[1]+'/Control.voltageSet/'+str(ts[2])+'/'+ts[3])\n",
    "    #requests.get(apiset+sessionid+'/0/'+ts[0]+'/'+ts[1]+'/Control.on/1')\n",
    "\n",
    "#Sets the voltages for the coincidence experiment\n",
    "def setcoincidence():\n",
    "    toset=[['2','3',1650,'V'],['3','0',-1250,'V'],['3','1',-750,'V'],['3','2',-1600,'V']]\n",
    "    for i in range(len(toset)):\n",
    "        setvolts(toset[i])\n",
    "    print('Voltages set and units powered on')\n",
    "\n",
    "#powers off all lines of all addresses    \n",
    "def turnoff():\n",
    "    requests.get(apiset+sessionid+'/0/*/*/Control.on/0')\n",
    "    print('All units powered off')    \n",
    "\n",
    "#test to see if all units are alive    \n",
    "def testalive():\n",
    "    ar=requests.get(apiget+sessionid+'/0/*/*/Status.isAlive')\n",
    "    for x in ar.json()[0]['c']:\n",
    "        ecount = 0\n",
    "        if x['d']['v'] != '1':\n",
    "            print('There is an .isAlive error in channel '+x['d']['p']['a'])\n",
    "            ecount += 1\n",
    "    return ecount\n",
    "\n",
    "#check temperature, returns array with temps of all addresses\n",
    "def checktemp():\n",
    "    tempr = requests.get(apiget+sessionid+'/0/*/*/Status.temperature')\n",
    "    temps = []\n",
    "    for x in tempr.json()[0]['c']:\n",
    "        temps.append(float(x['d']['v']))\n",
    "    return temps    \n",
    "\n",
    "'''\n",
    "Functions here are from the post-testing era and are just poorly coded.\n",
    "They are the main functions but hopefully will be replaced by someone in the future\n",
    "'''\n",
    "\n",
    "#Generate a request to interface with the iCS. Inputs are electode ID (str) and task (str)\n",
    "def generaterequest(eid, task, voltage=0, unit='V'):\n",
    "    #Verify channel ID is actual channel\n",
    "    if eid in iCSchannels.location:\n",
    "        #Verify the task is a registered task\n",
    "        #NOTE: this is a tasty little number\n",
    "        if task in [getattr(iCStasks,y) for y in [x for x in iCStasks.__dict__.keys() if not x.startswith('_')]]:\n",
    "            \n",
    "            #Voltage measure\n",
    "            if task == 'Status.voltageMeasure':\n",
    "                #Generate the appropriate address string, must be of the form /*/*/*/\n",
    "                tloc = ''.join(['/'+str(x) for x in iCSchannels.location[eid]])+'/'\n",
    "                #Generate the request\n",
    "                req = apiget+sessionid+tloc+task\n",
    "                return req\n",
    "            \n",
    "            #Voltage set\n",
    "            elif task == 'Control.voltageSet':\n",
    "                #Generate the appropriate address string, must be of the form /*/*/*/\n",
    "                tloc = ''.join(['/'+str(x) for x in iCSchannels.location[eid]])+'/'\n",
    "                #Verify voltage unit\n",
    "                if unit in ('V', 'kV'):\n",
    "                    #Scale kV voltages to V\n",
    "                    if unit == 'kV':\n",
    "                        voltage *= 1000\n",
    "                    #Verify voltage is less than channel limit\n",
    "                    if abs(voltage) <= abs(iCSchannels.limit[eid]) and np.sign(voltage) == np.sign(iCSchannels.limit[eid]) \\\n",
    "                    or np.sign(voltage) == 0:\n",
    "                        #Generate voltage string\n",
    "                        setval = ''.join('/'+str(voltage)+'/'+unit)\n",
    "                        #Generate the request\n",
    "                        req = apiset+sessionid+tloc+task+setval\n",
    "                    else:\n",
    "                        print('The set voltage is outside the channel limit; it must be less \\\n",
    "                        than {} V'.format(iCSchannels.limit[eid]))\n",
    "                        req = None\n",
    "                else:\n",
    "                    print('Invalid unit for voltage; use either V or kV')\n",
    "                    req = None\n",
    "                return req\n",
    "        \n",
    "        #Inform if task is not registered task\n",
    "        else:\n",
    "            print('The specified task {} does not exist. Registered tasks are stored in the iCStasks class'.format(task))\n",
    "    #Inform of incorrect IDs        \n",
    "    else:\n",
    "        print('Channel ID {} does not exist. The channel ID must be registered; for a \\\n",
    "        list of registered IDs, execute print(chids)'.format(id))\n",
    "\n",
    "#Execute a request and return the response\n",
    "def execturerequest(request):\n",
    "    req = requests.get(request)\n",
    "    return req\n",
    "\n",
    "#Extract information from a response\n",
    "def interpretresponse(response):\n",
    "    #Catch content in response\n",
    "    try:\n",
    "        #Convert response to useful list by extracting content of response\n",
    "        content = response.json()[0]['c']\n",
    "        if len(content) == 0:\n",
    "            print('No content is returned in response')\n",
    "            #Return nothing\n",
    "            ds = None\n",
    "        elif len(content) == 1:\n",
    "            #Return a dictionary with the embedded data\n",
    "            ds = content[0]['d']\n",
    "        else:\n",
    "            #Return a list of dictionaries of the embedded data\n",
    "            ds=[content[x]['d'] for x in range(len(content))]\n",
    "\n",
    "        #In the case of of voltage measurement, print the voltage (timestamped)\n",
    "        if ds['i'] == iCStasks.VMEAS:\n",
    "            \"\"\"\n",
    "            This is not working, the offest has issues, resulting in incorrect times\n",
    "            It is in the bin for the moment.\n",
    "            \n",
    "            #Check to see if the time offset has been calculated\n",
    "            try:\n",
    "                tfix\n",
    "            except NameError:\n",
    "                tfix = timefix()\n",
    "            else:\n",
    "                pass     \n",
    "\n",
    "            #print('The returned voltage was {} V [{}]'.format(ds['v'],timestampconvert(float(ds['t']),tfix)))\n",
    "            \"\"\"\n",
    "\n",
    "            print('The returned voltage was {} V [{}]'.format(ds['v'],timestampconvert(time.time())))\n",
    "    #If not content in response, look for trigger (information given in docs)\n",
    "    #http://192.168.68.237//doc/iCSservice/iCSapiWebsocket_Docu.html\n",
    "    except KeyError:\n",
    "        content = response.json()[0]['trigger']\n",
    "        if content == 'false':\n",
    "            print('Server can not handle request or wrong input information given')\n",
    "        elif content == 'true':\n",
    "            print('Server has (suscessfully) processed the request')\n",
    "        elif content == 'denied':\n",
    "            print('Server denies request because of access restrictions')\n",
    "        elif 'noData':\n",
    "            print('No data available to this request (on getUpdate command)')\n",
    "        else:\n",
    "            pass\n",
    "        \n",
    "        ds = None\n",
    "    \n",
    "    return ds\n",
    "            \n",
    "#Return a dataframe of all measured voltages\n",
    "def measureall(task):\n",
    "    #Verify the task is a registered task\n",
    "    #NOTE: this is a tasty little number\n",
    "    if task in [getattr(iCStasks,y) for y in [x for x in iCStasks.__dict__.keys() if not x.startswith('_')]]:\n",
    "        #Use API to pull data, returns a response\n",
    "        rquest = requests.get(apiget+sessionid+'/*/*/*/'+task)\n",
    "        #Convert response to useful list by extracting content of response\n",
    "        content = rquest.json()[0]['c']\n",
    "        #Return a list of dictionaries of the embedded data\n",
    "        ds=[content[x]['d'] for x in range(len(content))]\n",
    "        #Put data in a dataframe\n",
    "        df=pd.DataFrame(ds)\n",
    "        return df\n",
    "    else:\n",
    "        print('The specified task {} does not exist. Registered tasks are stored in the iCStasks class'.format(task))"
   ]
  },
  {
   "cell_type": "markdown",
   "metadata": {},
   "source": [
    "# Example usage"
   ]
  },
  {
   "cell_type": "code",
   "execution_count": null,
   "metadata": {},
   "outputs": [],
   "source": [
    "#Measure all voltages\n",
    "measureall(iCStasks.VMEAS)\n",
    "\n",
    "#Generate the request for controlling with the iCS\n",
    "generaterequest('+1kV3',iCStasks.VMEAS)\n",
    "\n",
    "#Interperate a response from a generated, executed request\n",
    "#EX1: Measure voltage\n",
    "interpretresponse(execturerequest(generaterequest('+1kV3',iCStasks.VMEAS)))\n",
    "#EX2: Set voltage\n",
    "interpretresponse(execturerequest(generaterequest('+1kV1',iCStasks.VSET, 11)))"
   ]
  },
  {
   "cell_type": "code",
   "execution_count": null,
   "metadata": {},
   "outputs": [],
   "source": [
    "#Testing for voltage ramping\n",
    "\n",
    "'''\n",
    "This was the first program written to test the iCS control\n",
    "In other words, it works but nothing more\n",
    "'''\n",
    "\n",
    "def main():\n",
    "    \n",
    "    sleep_time = 10\n",
    "    \n",
    "    #Initialise the voltage\n",
    "    #Get the current set value\n",
    "    vsr = requests.get(apiget+sessionid+'/0/0/0/Control.voltageSet')\n",
    "    vset = float(vsr.json()[0]['c'][0]['d']['v'])\n",
    "    #If it is not zero, make it zero\n",
    "    if vset != 0:\n",
    "        requests.get(apiset+sessionid+'/0/0/0/Control.voltageSet/0/V')\n",
    "    \n",
    "    #minumum voltage\n",
    "    v_min = 50\n",
    "    #maximum voltage\n",
    "    v_max = 100\n",
    "    #number of steps \n",
    "    v_steps = 11\n",
    "    voltages=np.linspace(v_min,v_max,v_steps)\n",
    "    \n",
    "    for v in voltages:\n",
    "        requests.get(apiset+sessionid+'/0/0/0/Control.voltageSet/'+str(v)+'/V')\n",
    "        time.sleep(sleep_time)"
   ]
  },
  {
   "cell_type": "markdown",
   "metadata": {},
   "source": [
    "# Testing"
   ]
  },
  {
   "cell_type": "code",
   "execution_count": 273,
   "metadata": {},
   "outputs": [
    {
     "name": "stdout",
     "output_type": "stream",
     "text": [
      "The returned voltage was -0.016 V [2019-01-22 10:57:05 (AUS Eastern Daylight Time)]\n"
     ]
    }
   ],
   "source": [
    "testmeas = interpretresponse(execturerequest(generaterequest('+1kV3',iCStasks.VMEAS)))\n",
    "#testset = interpretresponse(execturerequest(generaterequest('+1kV1',iCStasks.VSET,10)))"
   ]
  },
  {
   "cell_type": "code",
   "execution_count": null,
   "metadata": {},
   "outputs": [],
   "source": [
    "#Apparently instructions exist and can be returned in an xml file\n",
    "\n",
    "import xml.etree.ElementTree\n",
    "\n",
    "xml = execturerequest('http://192.168.68.237/api/getItemsInfo')\n",
    "e = xml.etree.ElementTree.parse(xml).getroot()\n",
    "\n",
    "#Found it here: http://192.168.68.237/api/getItemsInfo"
   ]
  },
  {
   "cell_type": "code",
   "execution_count": 287,
   "metadata": {},
   "outputs": [],
   "source": [
    "#Trying to get multiple requests on a single event\n",
    "\n",
    "r1, r2 = generaterequest('+1kV1',iCStasks.VMEAS), generaterequest('+1kV2',iCStasks.VMEAS)"
   ]
  },
  {
   "cell_type": "code",
   "execution_count": 309,
   "metadata": {},
   "outputs": [],
   "source": [
    "raa = execturerequest('http://192.168.68.237/api/getItem/55004ed5d0f14-27/0/0/0/Status.voltageMeasure')\n",
    "raa.json()"
   ]
  },
  {
   "cell_type": "code",
   "execution_count": null,
   "metadata": {},
   "outputs": [],
   "source": [
    "\"\"\"\n",
    "For a large number of requests, it seems that using asynchronous requests is a good idea:\n",
    "http://skipperkongen.dk/2016/09/09/easy-parallel-http-requests-with-python-and-asyncio/\n",
    "\n",
    "Also some work on creating a session rather than a butt-tonne of requests\n",
    "https://medium.com/@anthonypjshaw/python-requests-deep-dive-a0a5c5c1e093\n",
    "\"\"\""
   ]
  },
  {
   "cell_type": "code",
   "execution_count": 297,
   "metadata": {},
   "outputs": [],
   "source": [
    "r12 = execturerequest(r1)\n",
    "r12.json()"
   ]
  },
  {
   "cell_type": "code",
   "execution_count": null,
   "metadata": {},
   "outputs": [],
   "source": [
    "e1 = voltset(1,1000)\n",
    "e1.setvoltage()"
   ]
  },
  {
   "cell_type": "code",
   "execution_count": 338,
   "metadata": {},
   "outputs": [],
   "source": [
    "e1 = iCS2(chids[0],chlist[0],limits[0])"
   ]
  },
  {
   "cell_type": "code",
   "execution_count": 342,
   "metadata": {},
   "outputs": [
    {
     "data": {
      "text/plain": [
       "[0, 0, 0]"
      ]
     },
     "execution_count": 342,
     "metadata": {},
     "output_type": "execute_result"
    }
   ],
   "source": [
    "e1.address"
   ]
  },
  {
   "cell_type": "code",
   "execution_count": 388,
   "metadata": {},
   "outputs": [],
   "source": [
    "#initialise electrodes\n",
    "for x in elabels:\n",
    "    #Use the index of the element x in elabels for the electrode properties\n",
    "    i = elabels.index(x)\n",
    "    #Set a string to a variable and then define class attributes\n",
    "    vars()[x] = iCS2(chids[i],chlist[i],limits[i])"
   ]
  },
  {
   "cell_type": "code",
   "execution_count": 395,
   "metadata": {},
   "outputs": [
    {
     "data": {
      "text/plain": [
       "True"
      ]
     },
     "execution_count": 395,
     "metadata": {},
     "output_type": "execute_result"
    }
   ],
   "source": [
    "e1.address in chlist"
   ]
  },
  {
   "cell_type": "code",
   "execution_count": 412,
   "metadata": {},
   "outputs": [
    {
     "ename": "SyntaxError",
     "evalue": "invalid syntax (<ipython-input-412-4d9cf5fe8c92>, line 2)",
     "output_type": "error",
     "traceback": [
      "\u001b[1;36m  File \u001b[1;32m\"<ipython-input-412-4d9cf5fe8c92>\"\u001b[1;36m, line \u001b[1;32m2\u001b[0m\n\u001b[1;33m    \"i\": \"55005e1a49cad-46\",    // session id, received by login\u001b[0m\n\u001b[1;37m                                 ^\u001b[0m\n\u001b[1;31mSyntaxError\u001b[0m\u001b[1;31m:\u001b[0m invalid syntax\n"
     ]
    }
   ],
   "source": [
    "{\n",
    "\t\"i\": \"55005e1a49cad-46\",    // session id, received by login\n",
    "\t\"t\": \"request\",             // type request\n",
    "\t\"c\": [                      // content array, collects different request pakets\n",
    "\t\t{                       // request paket object\n",
    "\t\t\t\"c\": \"getItem\",     // command: getItem\n",
    "\t\t\t\"p\": {\n",
    "\t\t\t\t\"p\": {          // path object\n",
    "\t\t\t\t\t\"l\": \"0\",   // line (0)\n",
    "\t\t\t\t\t\"a\": \"*\",   // address (every device in line 0)\n",
    "\t\t\t\t\t\"c\": \"*\"    // channel (every channel of every device in line 0)\n",
    "\t\t\t\t},\n",
    "\t\t\t\t\"i\": \"VoltageMeasure\",  // item type (measured Voltage)\n",
    "\t\t\t\t\"v\": \"\",        // must be empty\n",
    "\t\t\t\t\"u\": \"\"         // must be empty\n",
    "\t\t\t}\n",
    "\t\t}\n",
    "\t],\n",
    "\t\"r\": \"websocket\" // session response type: websocket => push mode communication | xhr => polling mode communication\n",
    "}"
   ]
  },
  {
   "cell_type": "markdown",
   "metadata": {},
   "source": [
    "# Using the API for passing .json instructions"
   ]
  },
  {
   "cell_type": "code",
   "execution_count": 446,
   "metadata": {},
   "outputs": [],
   "source": [
    "import json\n",
    "\n",
    "vmeascom = {\"i\": sessionid,\"t\": \"request\",\"c\": [{\"c\": \"getItem\",\"p\": {\"p\": {\"l\": \"0\",\"a\": \"0\", \"c\": \"0\"},\"i\": \"VoltageMeasure\",\"v\": \"\",\"u\": \"\"}}],\n",
    "\"r\": \"websocket\"}\n",
    "\n",
    "data_json = json.dumps(tt)\n",
    "\n",
    "parameters = {\"lat\": 37.78, \"lon\": -122.41}\n",
    "response = requests.get(\"http://api.open-notify.org/iss-pass.json\", params=parameters)\n",
    "\n",
    "parameters\n",
    "\n",
    "payload = {'json_payload': data_json, 'apikey': sessionid}"
   ]
  },
  {
   "cell_type": "code",
   "execution_count": null,
   "metadata": {},
   "outputs": [],
   "source": [
    "[{\"t\":\"response\",\"c\":[{\"e\":\"itemUpdated\",\"d\":{\"p\":{\"l\":\"0\",\"a\":\"0\",\"c\":\"0\"},\"i\":\"Status.voltageMeasure\",\"v\":\"\",\"u\":\"\",\"t\":\"1529236198.6850\"}}]}]"
   ]
  },
  {
   "cell_type": "code",
   "execution_count": 449,
   "metadata": {},
   "outputs": [],
   "source": [
    "rzm = requests.get('http://192.168.68.237/', params=tt)\n",
    "rzm.content"
   ]
  },
  {
   "cell_type": "code",
   "execution_count": 442,
   "metadata": {},
   "outputs": [],
   "source": [
    "rzz = execturerequest(generaterequest('+1kV3',iCStasks.VMEAS))"
   ]
  },
  {
   "cell_type": "code",
   "execution_count": null,
   "metadata": {},
   "outputs": [],
   "source": [
    "interpretresponse(execturerequest(generaterequest('+1kV1',iCStasks.VSET, 11)))"
   ]
  },
  {
   "cell_type": "code",
   "execution_count": 411,
   "metadata": {},
   "outputs": [
    {
     "data": {
      "text/plain": [
       "'http://192.168.68.237/api/setItem/55004ed5d0f14-27/0/0/0/Control.voltageSet/11/V'"
      ]
     },
     "execution_count": 411,
     "metadata": {},
     "output_type": "execute_result"
    }
   ],
   "source": [
    "generaterequest('+1kV1',iCStasks.VSET, 11)"
   ]
  },
  {
   "cell_type": "code",
   "execution_count": 422,
   "metadata": {},
   "outputs": [
    {
     "data": {
      "text/plain": [
       "'55004ed5d0f14-27'"
      ]
     },
     "execution_count": 422,
     "metadata": {},
     "output_type": "execute_result"
    }
   ],
   "source": [
    "sessionid"
   ]
  },
  {
   "cell_type": "code",
   "execution_count": 423,
   "metadata": {},
   "outputs": [
    {
     "name": "stdout",
     "output_type": "stream",
     "text": [
      "The returned voltage was -0.009 V [2019-01-25 10:55:59 (AUS Eastern Daylight Time)]\n"
     ]
    },
    {
     "data": {
      "text/plain": [
       "{'i': 'Status.voltageMeasure',\n",
       " 'p': {'a': '0', 'c': '2', 'l': '0'},\n",
       " 't': '1529227833.3280',\n",
       " 'u': 'V',\n",
       " 'v': '-0.009'}"
      ]
     },
     "execution_count": 423,
     "metadata": {},
     "output_type": "execute_result"
    }
   ],
   "source": [
    "interpretresponse(execturerequest(generaterequest('+1kV3',iCStasks.VMEAS)))"
   ]
  },
  {
   "cell_type": "code",
   "execution_count": 457,
   "metadata": {},
   "outputs": [
    {
     "data": {
      "text/plain": [
       "'{\"i\": \"\", \"t\": \"login\", \"c\": {\"l\": \"admin\", \"p\": \"molly7802\", \"t\": \"\"}, \"r\": \"websocket\"}'"
      ]
     },
     "execution_count": 457,
     "metadata": {},
     "output_type": "execute_result"
    }
   ],
   "source": [
    "json.dumps(loginreq)"
   ]
  },
  {
   "cell_type": "code",
   "execution_count": 421,
   "metadata": {},
   "outputs": [
    {
     "data": {
      "text/plain": [
       "404"
      ]
     },
     "execution_count": 421,
     "metadata": {},
     "output_type": "execute_result"
    }
   ],
   "source": [
    "rtest1 = requests.post('http://192.168.68.237/api/', json = json_data)\n",
    "rtest1.status_code"
   ]
  },
  {
   "cell_type": "markdown",
   "metadata": {},
   "source": [
    "# Using websocket for control"
   ]
  },
  {
   "cell_type": "markdown",
   "metadata": {},
   "source": [
    "Instructions from the iCS2 regarding wc connection\n",
    "\n",
    "- Open Websocket connection on iCS Host IP and Websocket port (default 8080, see Javascript example)\n",
    "- Send login message\n",
    "- Receive response message with Session ID information, if false a Trigger message with false will be send\n",
    "- Send request with setItem/getItem/(getUpdate) commands and the session id\n",
    "- Once a getItem or getUpdate command is sent in the session to a specific Object this info will be updated by push\n",
    "- Define the session mode using the responsetype \"r\" between direct push communication (r: \"websocket\") or polling mode, where the client requests updates using the \"getUpdate\" Command (r: \"xhr\")\n",
    "- Process incoming response or info messages\n",
    "- Use heartbeat messages for alive tests\n",
    "- Logout"
   ]
  },
  {
   "cell_type": "code",
   "execution_count": 117,
   "metadata": {},
   "outputs": [],
   "source": [
    "import websocket\n",
    "import json\n",
    "\n",
    "#Login\n",
    "ws = websocket.create_connection(\"ws://192.168.68.237:8080\")\n",
    "loginreq = {\"i\": \"\", \"t\": \"login\", \"c\": {\"l\": \"admin\", \"p\": \"molly7802\", \"t\": \"\"}, \"r\": \"websocket\"}\n",
    "ws.send(json.dumps(loginreq))\n",
    "sessionid = json.loads(ws.recv())['i']"
   ]
  },
  {
   "cell_type": "code",
   "execution_count": 91,
   "metadata": {},
   "outputs": [],
   "source": [
    "#Logout\n",
    "logoutreq = {\"i\": sessionid, \"t\": \"logout\", \"c\": {}, \"r\": \"websocket\"}\n",
    "ws.send(json.dumps(logoutreq))\n",
    "ws.close()"
   ]
  },
  {
   "cell_type": "code",
   "execution_count": 125,
   "metadata": {},
   "outputs": [
    {
     "data": {
      "text/plain": [
       "[{'c': [{'d': {'i': 'Status.voltageMeasure',\n",
       "     'p': {'a': '0', 'c': '0', 'l': '0'},\n",
       "     't': '1538413427.9929',\n",
       "     'u': 'V',\n",
       "     'v': '0.006'},\n",
       "    'e': 'itemUpdated'},\n",
       "   {'d': {'i': 'Status.voltageMeasure',\n",
       "     'p': {'a': '0', 'c': '1', 'l': '0'},\n",
       "     't': '1538413427.9955',\n",
       "     'u': 'V',\n",
       "     'v': '-0.001'},\n",
       "    'e': 'itemUpdated'},\n",
       "   {'d': {'i': 'Status.voltageMeasure',\n",
       "     'p': {'a': '0', 'c': '2', 'l': '0'},\n",
       "     't': '1538413427.9934',\n",
       "     'u': 'V',\n",
       "     'v': '-0.011'},\n",
       "    'e': 'itemUpdated'},\n",
       "   {'d': {'i': 'Status.voltageMeasure',\n",
       "     'p': {'a': '0', 'c': '3', 'l': '0'},\n",
       "     't': '1538413427.9938',\n",
       "     'u': 'V',\n",
       "     'v': '-0.016'},\n",
       "    'e': 'itemUpdated'},\n",
       "   {'d': {'i': 'Status.voltageMeasure',\n",
       "     'p': {'a': '0', 'c': '4', 'l': '0'},\n",
       "     't': '1538413427.9942',\n",
       "     'u': 'V',\n",
       "     'v': '-0.047'},\n",
       "    'e': 'itemUpdated'},\n",
       "   {'d': {'i': 'Status.voltageMeasure',\n",
       "     'p': {'a': '0', 'c': '5', 'l': '0'},\n",
       "     't': '1538413427.9947',\n",
       "     'u': 'V',\n",
       "     'v': '0.002'},\n",
       "    'e': 'itemUpdated'},\n",
       "   {'d': {'i': 'Status.voltageMeasure',\n",
       "     'p': {'a': '0', 'c': '6', 'l': '0'},\n",
       "     't': '1538413427.9951',\n",
       "     'u': 'V',\n",
       "     'v': '0.003'},\n",
       "    'e': 'itemUpdated'},\n",
       "   {'d': {'i': 'Status.voltageMeasure',\n",
       "     'p': {'a': '0', 'c': '7', 'l': '0'},\n",
       "     't': '1538413427.9925',\n",
       "     'u': 'V',\n",
       "     'v': '-0.359'},\n",
       "    'e': 'itemUpdated'},\n",
       "   {'d': {'i': 'Status.voltageMeasure',\n",
       "     'p': {'a': '1', 'c': '0', 'l': '0'},\n",
       "     't': '1538413428.0119',\n",
       "     'u': 'V',\n",
       "     'v': '-0.088'},\n",
       "    'e': 'itemUpdated'},\n",
       "   {'d': {'i': 'Status.voltageMeasure',\n",
       "     'p': {'a': '1', 'c': '1', 'l': '0'},\n",
       "     't': '1538413428.0128',\n",
       "     'u': 'V',\n",
       "     'v': '0.040'},\n",
       "    'e': 'itemUpdated'},\n",
       "   {'d': {'i': 'Status.voltageMeasure',\n",
       "     'p': {'a': '1', 'c': '2', 'l': '0'},\n",
       "     't': '1538413428.0124',\n",
       "     'u': 'V',\n",
       "     'v': '-1.114'},\n",
       "    'e': 'itemUpdated'},\n",
       "   {'d': {'i': 'Status.voltageMeasure',\n",
       "     'p': {'a': '1', 'c': '3', 'l': '0'},\n",
       "     't': '1538413428.0115',\n",
       "     'u': 'V',\n",
       "     'v': '-0.144'},\n",
       "    'e': 'itemUpdated'},\n",
       "   {'d': {'i': 'Status.voltageMeasure',\n",
       "     'p': {'a': '2', 'c': '0', 'l': '0'},\n",
       "     't': '1538413427.9183',\n",
       "     'u': 'V',\n",
       "     'v': '-0.172'},\n",
       "    'e': 'itemUpdated'},\n",
       "   {'d': {'i': 'Status.voltageMeasure',\n",
       "     'p': {'a': '2', 'c': '1', 'l': '0'},\n",
       "     't': '1538413427.9192',\n",
       "     'u': 'V',\n",
       "     'v': '0.078'},\n",
       "    'e': 'itemUpdated'},\n",
       "   {'d': {'i': 'Status.voltageMeasure',\n",
       "     'p': {'a': '2', 'c': '2', 'l': '0'},\n",
       "     't': '1538413427.9187',\n",
       "     'u': 'V',\n",
       "     'v': '0.794'},\n",
       "    'e': 'itemUpdated'},\n",
       "   {'d': {'i': 'Status.voltageMeasure',\n",
       "     'p': {'a': '2', 'c': '3', 'l': '0'},\n",
       "     't': '1538413428.0235',\n",
       "     'u': 'V',\n",
       "     'v': '0.611'},\n",
       "    'e': 'itemUpdated'},\n",
       "   {'d': {'i': 'Status.voltageMeasure',\n",
       "     'p': {'a': '3', 'c': '0', 'l': '0'},\n",
       "     't': '1538413427.9306',\n",
       "     'u': 'V',\n",
       "     'v': '-0.802'},\n",
       "    'e': 'itemUpdated'},\n",
       "   {'d': {'i': 'Status.voltageMeasure',\n",
       "     'p': {'a': '3', 'c': '1', 'l': '0'},\n",
       "     't': '1538413427.9315',\n",
       "     'u': 'V',\n",
       "     'v': '-0.313'},\n",
       "    'e': 'itemUpdated'},\n",
       "   {'d': {'i': 'Status.voltageMeasure',\n",
       "     'p': {'a': '3', 'c': '2', 'l': '0'},\n",
       "     't': '1538413427.9310',\n",
       "     'u': 'V',\n",
       "     'v': '0.206'},\n",
       "    'e': 'itemUpdated'},\n",
       "   {'d': {'i': 'Status.voltageMeasure',\n",
       "     'p': {'a': '3', 'c': '3', 'l': '0'},\n",
       "     't': '1538413427.9302',\n",
       "     'u': 'V',\n",
       "     'v': '-0.566'},\n",
       "    'e': 'itemUpdated'},\n",
       "   {'d': {'i': 'Status.voltageMeasure',\n",
       "     'p': {'a': '0', 'c': '0', 'l': '1'},\n",
       "     't': '1538413427.9433',\n",
       "     'u': 'V',\n",
       "     'v': '-0.001'},\n",
       "    'e': 'itemUpdated'},\n",
       "   {'d': {'i': 'Status.voltageMeasure',\n",
       "     'p': {'a': '0', 'c': '1', 'l': '1'},\n",
       "     't': '1538413427.9455',\n",
       "     'u': 'V',\n",
       "     'v': '-0.001'},\n",
       "    'e': 'itemUpdated'},\n",
       "   {'d': {'i': 'Status.voltageMeasure',\n",
       "     'p': {'a': '0', 'c': '2', 'l': '1'},\n",
       "     't': '1538413427.9438',\n",
       "     'u': 'V',\n",
       "     'v': '5.709'},\n",
       "    'e': 'itemUpdated'},\n",
       "   {'d': {'i': 'Status.voltageMeasure',\n",
       "     'p': {'a': '0', 'c': '3', 'l': '1'},\n",
       "     't': '1538413427.9442',\n",
       "     'u': 'V',\n",
       "     'v': '-0.001'},\n",
       "    'e': 'itemUpdated'},\n",
       "   {'d': {'i': 'Status.voltageMeasure',\n",
       "     'p': {'a': '0', 'c': '4', 'l': '1'},\n",
       "     't': '1538413427.9446',\n",
       "     'u': 'V',\n",
       "     'v': '-7.740'},\n",
       "    'e': 'itemUpdated'},\n",
       "   {'d': {'i': 'Status.voltageMeasure',\n",
       "     'p': {'a': '0', 'c': '5', 'l': '1'},\n",
       "     't': '1538413427.9450',\n",
       "     'u': 'V',\n",
       "     'v': '-0.001'},\n",
       "    'e': 'itemUpdated'},\n",
       "   {'d': {'i': 'Status.voltageMeasure',\n",
       "     'p': {'a': '0', 'c': '6', 'l': '1'},\n",
       "     't': '1538413427.9429',\n",
       "     'u': 'V',\n",
       "     'v': '-8.205'},\n",
       "    'e': 'itemUpdated'},\n",
       "   {'d': {'i': 'Status.voltageMeasure',\n",
       "     'p': {'a': '0', 'c': '0', 'l': '8'},\n",
       "     't': '1538413427.9605',\n",
       "     'u': 'V',\n",
       "     'v': '6.098'},\n",
       "    'e': 'itemUpdated'},\n",
       "   {'d': {'i': 'Status.voltageMeasure',\n",
       "     'p': {'a': '0', 'c': '1', 'l': '8'},\n",
       "     't': '1538413427.9627',\n",
       "     'u': 'V',\n",
       "     'v': '0.000'},\n",
       "    'e': 'itemUpdated'},\n",
       "   {'d': {'i': 'Status.voltageMeasure',\n",
       "     'p': {'a': '0', 'c': '2', 'l': '8'},\n",
       "     't': '1538413427.9610',\n",
       "     'u': 'V',\n",
       "     'v': '8.173'},\n",
       "    'e': 'itemUpdated'},\n",
       "   {'d': {'i': 'Status.voltageMeasure',\n",
       "     'p': {'a': '0', 'c': '3', 'l': '8'},\n",
       "     't': '1538413427.9614',\n",
       "     'u': 'V',\n",
       "     'v': '0.000'},\n",
       "    'e': 'itemUpdated'},\n",
       "   {'d': {'i': 'Status.voltageMeasure',\n",
       "     'p': {'a': '0', 'c': '4', 'l': '8'},\n",
       "     't': '1538413427.9619',\n",
       "     'u': 'V',\n",
       "     'v': '-8.337'},\n",
       "    'e': 'itemUpdated'},\n",
       "   {'d': {'i': 'Status.voltageMeasure',\n",
       "     'p': {'a': '0', 'c': '5', 'l': '8'},\n",
       "     't': '1538413427.9623',\n",
       "     'u': 'V',\n",
       "     'v': '0.000'},\n",
       "    'e': 'itemUpdated'},\n",
       "   {'d': {'i': 'Status.voltageMeasure',\n",
       "     'p': {'a': '0', 'c': '6', 'l': '8'},\n",
       "     't': '1538413427.9601',\n",
       "     'u': 'V',\n",
       "     'v': '-8.098'},\n",
       "    'e': 'itemUpdated'}],\n",
       "  't': 'response'}]"
      ]
     },
     "execution_count": 125,
     "metadata": {},
     "output_type": "execute_result"
    }
   ],
   "source": [
    "#Measure voltage. This worked after a long period of not working, so not sure what is going on...\n",
    "wsvmeas = {\"i\": sessionid, \"t\": \"request\", \"c\": [{\"c\": \"getItem\", \"p\": {\"p\": {\"l\": \"*\", \"a\": \"*\", \"c\": \"*\"}, \"i\": \"Status.voltageMeasure\", \"v\": \"\", \"u\": \"\"}}]}\n",
    "measreq = json.dumps(wsvmeas)\n",
    "ws.send(measreq)\n",
    "measout = json.loads(ws.recv())\n",
    "measout"
   ]
  },
  {
   "cell_type": "code",
   "execution_count": 138,
   "metadata": {},
   "outputs": [
    {
     "data": {
      "text/plain": [
       "156"
      ]
     },
     "execution_count": 138,
     "metadata": {},
     "output_type": "execute_result"
    }
   ],
   "source": [
    "turnon = {\"i\": sessionid, \"t\": \"request\", \"c\": [{\"c\": \"setItem\", \"p\": {\"p\": {\"l\": \"0\", \"a\": \"0\", \"c\": \"0\"}, \"i\": \"Control.on\", \"v\": \"1\", \"u\": \"\"}}]}\n",
    "onreq = json.dumps(turnon)\n",
    "ws.send(onreq)"
   ]
  },
  {
   "cell_type": "code",
   "execution_count": 136,
   "metadata": {},
   "outputs": [
    {
     "data": {
      "text/plain": [
       "[{'i': 'Status.voltageMeasure',\n",
       "  'p': {'a': '0', 'c': '0', 'l': '0'},\n",
       "  't': '1538413427.9929',\n",
       "  'u': 'V',\n",
       "  'v': '0.006'},\n",
       " {'i': 'Status.voltageMeasure',\n",
       "  'p': {'a': '0', 'c': '1', 'l': '0'},\n",
       "  't': '1538413427.9955',\n",
       "  'u': 'V',\n",
       "  'v': '-0.001'},\n",
       " {'i': 'Status.voltageMeasure',\n",
       "  'p': {'a': '0', 'c': '2', 'l': '0'},\n",
       "  't': '1538413427.9934',\n",
       "  'u': 'V',\n",
       "  'v': '-0.011'},\n",
       " {'i': 'Status.voltageMeasure',\n",
       "  'p': {'a': '0', 'c': '3', 'l': '0'},\n",
       "  't': '1538413427.9938',\n",
       "  'u': 'V',\n",
       "  'v': '-0.016'},\n",
       " {'i': 'Status.voltageMeasure',\n",
       "  'p': {'a': '0', 'c': '4', 'l': '0'},\n",
       "  't': '1538413427.9942',\n",
       "  'u': 'V',\n",
       "  'v': '-0.047'},\n",
       " {'i': 'Status.voltageMeasure',\n",
       "  'p': {'a': '0', 'c': '5', 'l': '0'},\n",
       "  't': '1538413427.9947',\n",
       "  'u': 'V',\n",
       "  'v': '0.002'},\n",
       " {'i': 'Status.voltageMeasure',\n",
       "  'p': {'a': '0', 'c': '6', 'l': '0'},\n",
       "  't': '1538413427.9951',\n",
       "  'u': 'V',\n",
       "  'v': '0.003'},\n",
       " {'i': 'Status.voltageMeasure',\n",
       "  'p': {'a': '0', 'c': '7', 'l': '0'},\n",
       "  't': '1538413427.9925',\n",
       "  'u': 'V',\n",
       "  'v': '-0.359'},\n",
       " {'i': 'Status.voltageMeasure',\n",
       "  'p': {'a': '1', 'c': '0', 'l': '0'},\n",
       "  't': '1538413428.0119',\n",
       "  'u': 'V',\n",
       "  'v': '-0.088'},\n",
       " {'i': 'Status.voltageMeasure',\n",
       "  'p': {'a': '1', 'c': '1', 'l': '0'},\n",
       "  't': '1538413428.0128',\n",
       "  'u': 'V',\n",
       "  'v': '0.040'},\n",
       " {'i': 'Status.voltageMeasure',\n",
       "  'p': {'a': '1', 'c': '2', 'l': '0'},\n",
       "  't': '1538413428.0124',\n",
       "  'u': 'V',\n",
       "  'v': '-1.114'},\n",
       " {'i': 'Status.voltageMeasure',\n",
       "  'p': {'a': '1', 'c': '3', 'l': '0'},\n",
       "  't': '1538413428.0115',\n",
       "  'u': 'V',\n",
       "  'v': '-0.144'},\n",
       " {'i': 'Status.voltageMeasure',\n",
       "  'p': {'a': '2', 'c': '0', 'l': '0'},\n",
       "  't': '1538413427.9183',\n",
       "  'u': 'V',\n",
       "  'v': '-0.172'},\n",
       " {'i': 'Status.voltageMeasure',\n",
       "  'p': {'a': '2', 'c': '1', 'l': '0'},\n",
       "  't': '1538413427.9192',\n",
       "  'u': 'V',\n",
       "  'v': '0.078'},\n",
       " {'i': 'Status.voltageMeasure',\n",
       "  'p': {'a': '2', 'c': '2', 'l': '0'},\n",
       "  't': '1538413427.9187',\n",
       "  'u': 'V',\n",
       "  'v': '0.794'},\n",
       " {'i': 'Status.voltageMeasure',\n",
       "  'p': {'a': '2', 'c': '3', 'l': '0'},\n",
       "  't': '1538413428.0235',\n",
       "  'u': 'V',\n",
       "  'v': '0.611'},\n",
       " {'i': 'Status.voltageMeasure',\n",
       "  'p': {'a': '3', 'c': '0', 'l': '0'},\n",
       "  't': '1538413427.9306',\n",
       "  'u': 'V',\n",
       "  'v': '-0.802'},\n",
       " {'i': 'Status.voltageMeasure',\n",
       "  'p': {'a': '3', 'c': '1', 'l': '0'},\n",
       "  't': '1538413427.9315',\n",
       "  'u': 'V',\n",
       "  'v': '-0.313'},\n",
       " {'i': 'Status.voltageMeasure',\n",
       "  'p': {'a': '3', 'c': '2', 'l': '0'},\n",
       "  't': '1538413427.9310',\n",
       "  'u': 'V',\n",
       "  'v': '0.206'},\n",
       " {'i': 'Status.voltageMeasure',\n",
       "  'p': {'a': '3', 'c': '3', 'l': '0'},\n",
       "  't': '1538413427.9302',\n",
       "  'u': 'V',\n",
       "  'v': '-0.566'},\n",
       " {'i': 'Status.voltageMeasure',\n",
       "  'p': {'a': '0', 'c': '0', 'l': '1'},\n",
       "  't': '1538413427.9433',\n",
       "  'u': 'V',\n",
       "  'v': '-0.001'},\n",
       " {'i': 'Status.voltageMeasure',\n",
       "  'p': {'a': '0', 'c': '1', 'l': '1'},\n",
       "  't': '1538413427.9455',\n",
       "  'u': 'V',\n",
       "  'v': '-0.001'},\n",
       " {'i': 'Status.voltageMeasure',\n",
       "  'p': {'a': '0', 'c': '2', 'l': '1'},\n",
       "  't': '1538413427.9438',\n",
       "  'u': 'V',\n",
       "  'v': '5.709'},\n",
       " {'i': 'Status.voltageMeasure',\n",
       "  'p': {'a': '0', 'c': '3', 'l': '1'},\n",
       "  't': '1538413427.9442',\n",
       "  'u': 'V',\n",
       "  'v': '-0.001'},\n",
       " {'i': 'Status.voltageMeasure',\n",
       "  'p': {'a': '0', 'c': '4', 'l': '1'},\n",
       "  't': '1538413427.9446',\n",
       "  'u': 'V',\n",
       "  'v': '-7.740'},\n",
       " {'i': 'Status.voltageMeasure',\n",
       "  'p': {'a': '0', 'c': '5', 'l': '1'},\n",
       "  't': '1538413427.9450',\n",
       "  'u': 'V',\n",
       "  'v': '-0.001'},\n",
       " {'i': 'Status.voltageMeasure',\n",
       "  'p': {'a': '0', 'c': '6', 'l': '1'},\n",
       "  't': '1538413427.9429',\n",
       "  'u': 'V',\n",
       "  'v': '-8.205'},\n",
       " {'i': 'Status.voltageMeasure',\n",
       "  'p': {'a': '0', 'c': '0', 'l': '8'},\n",
       "  't': '1538413427.9605',\n",
       "  'u': 'V',\n",
       "  'v': '6.098'},\n",
       " {'i': 'Status.voltageMeasure',\n",
       "  'p': {'a': '0', 'c': '1', 'l': '8'},\n",
       "  't': '1538413427.9627',\n",
       "  'u': 'V',\n",
       "  'v': '0.000'},\n",
       " {'i': 'Status.voltageMeasure',\n",
       "  'p': {'a': '0', 'c': '2', 'l': '8'},\n",
       "  't': '1538413427.9610',\n",
       "  'u': 'V',\n",
       "  'v': '8.173'},\n",
       " {'i': 'Status.voltageMeasure',\n",
       "  'p': {'a': '0', 'c': '3', 'l': '8'},\n",
       "  't': '1538413427.9614',\n",
       "  'u': 'V',\n",
       "  'v': '0.000'},\n",
       " {'i': 'Status.voltageMeasure',\n",
       "  'p': {'a': '0', 'c': '4', 'l': '8'},\n",
       "  't': '1538413427.9619',\n",
       "  'u': 'V',\n",
       "  'v': '-8.337'},\n",
       " {'i': 'Status.voltageMeasure',\n",
       "  'p': {'a': '0', 'c': '5', 'l': '8'},\n",
       "  't': '1538413427.9623',\n",
       "  'u': 'V',\n",
       "  'v': '0.000'},\n",
       " {'i': 'Status.voltageMeasure',\n",
       "  'p': {'a': '0', 'c': '6', 'l': '8'},\n",
       "  't': '1538413427.9601',\n",
       "  'u': 'V',\n",
       "  'v': '-8.098'}]"
      ]
     },
     "execution_count": 136,
     "metadata": {},
     "output_type": "execute_result"
    }
   ],
   "source": [
    "content = measout[0]['c']\n",
    "[content[x]['d'] for x in range(len(content))]"
   ]
  },
  {
   "cell_type": "code",
   "execution_count": 123,
   "metadata": {},
   "outputs": [
    {
     "data": {
      "text/plain": [
       "[{'c': [{'d': {'i': 'Status.voltageMeasure',\n",
       "     'p': {'a': '0', 'c': '1', 'l': '0'},\n",
       "     't': '1538413392.1755',\n",
       "     'u': 'V',\n",
       "     'v': '-0.002'},\n",
       "    'e': 'itemUpdated'}],\n",
       "  't': 'response'}]"
      ]
     },
     "execution_count": 123,
     "metadata": {},
     "output_type": "execute_result"
    }
   ],
   "source": [
    "wsvmeas = wstaskgen([0,0,1], wstask = iCStasks.VMEAS)\n",
    "measreq = json.dumps(wsvmeas)\n",
    "ws.send(measreq)\n",
    "measout = json.loads(ws.recv())\n",
    "measout"
   ]
  },
  {
   "cell_type": "code",
   "execution_count": 124,
   "metadata": {},
   "outputs": [
    {
     "data": {
      "text/plain": [
       "{'c': [{'c': 'getItem',\n",
       "   'p': {'i': 'Status.voltageMeasure',\n",
       "    'p': {'a': '0', 'c': '1', 'l': '0'},\n",
       "    'u': '',\n",
       "    'v': ''}}],\n",
       " 'i': '55004ed5d0f14-18',\n",
       " 'r': 'websocket',\n",
       " 't': 'request'}"
      ]
     },
     "execution_count": 124,
     "metadata": {},
     "output_type": "execute_result"
    }
   ],
   "source": [
    "wstaskgen([0,0,1], wstask = iCStasks.VMEAS)"
   ]
  },
  {
   "cell_type": "code",
   "execution_count": 118,
   "metadata": {},
   "outputs": [],
   "source": [
    "ws.close()"
   ]
  },
  {
   "cell_type": "code",
   "execution_count": null,
   "metadata": {},
   "outputs": [],
   "source": [
    "\"\"\"\n",
    "Polling is finally working. Need to get this functioning on the control software proper\n",
    "Then implement multiple tasks\n",
    "\"\"\""
   ]
  },
  {
   "cell_type": "code",
   "execution_count": 16,
   "metadata": {},
   "outputs": [
    {
     "data": {
      "text/plain": [
       "True"
      ]
     },
     "execution_count": 16,
     "metadata": {},
     "output_type": "execute_result"
    }
   ],
   "source": [
    "ws.connected"
   ]
  },
  {
   "cell_type": "code",
   "execution_count": 173,
   "metadata": {},
   "outputs": [],
   "source": [
    "statpower = {\"i\": sid,\"t\": \"request\",\"c\": [{\"c\": \"getItem\",\"p\": {\"p\": {\"l\": \"\",\"a\": \"\", \"c\": \"\"},\"i\": \"Status.power\",\"v\": \"\",\"u\": \"\"}}]}\n",
    "pwrreq = json.dumps(statpower)\n",
    "ws.send(pwrreq)\n",
    "pwrout = json.loads(ws.recv())\n",
    "\n",
    "\n",
    "#setout = json.loads(ws.recv())"
   ]
  },
  {
   "cell_type": "code",
   "execution_count": 11,
   "metadata": {},
   "outputs": [],
   "source": [
    "#Function to generate the websocket tasks. Mainly geared for setting electrode values\n",
    "#Inputs are electrode address (e.address), the set voltage, the task to complete and the structure type (usally request but can be login/logout)\n",
    "def wstaskgen(eloc = [None, None, None], voltage = 0, units = 'V', wstask = iCStasks.VSET, stuct = 'request'):\n",
    "    #Session mode (\"websocket\" or \"xhr\"), see iCS2 docs\n",
    "    r = 'websocket'\n",
    "    #Structure type\n",
    "    t1 = stuct\n",
    "    \n",
    "    #Generate login task parameters, must be {\"i\": \"\", \"t\": \"login\", \"c\": {\"l\": \"user\", \"p\": \"password\", \"t\": \"\"}, \"r\": \"websocket\"} \n",
    "    if t1 == 'login':\n",
    "        #Session ID\n",
    "        i = ''\n",
    "        #Username\n",
    "        l = usr\n",
    "        #Password\n",
    "        try:\n",
    "            p = passwd\n",
    "        except KeyError:\n",
    "            p = getpass.getpass(\"Password for iCS2 module:\")        \n",
    "        t2 = ''\n",
    "        c1 = {'l': l, 'p': p, 't': t2}    \n",
    "    \n",
    "    #Generate logout task parameters, must be {\"i\": session ID, \"t\": \"logout\", \"c\": {}, \"r\": \"websocket\"}\n",
    "    elif t1 == 'logout':\n",
    "        i = sessionid\n",
    "        c1 = {}\n",
    "    \n",
    "    #Generate requst task\n",
    "    elif t1 == 'request':\n",
    "        #Session ID\n",
    "        i = sessionid\n",
    "        #Generate task for setting the voltage, must be {\"i\": session ID, \"t\": \"request\", \"c\": [{\"c\": \"setItem\",\"p\": {\"p\": {\"l\": \"0\",\"a\": \"2\", \"c\": \"1\"},\"i\": \"Control.voltageSet\",\"v\": \"0\",\"u\": \"V\"}}], \"r\": \"websocket\"}\n",
    "        if wstask == iCStasks.VSET:\n",
    "            c2 = 'setItem'\n",
    "            [line, add, chan] = [str(i) for i in eloc]\n",
    "            item = wstask\n",
    "            v = voltage\n",
    "            u = units\n",
    "            p = {'p': {'l': line, 'a': add, 'c': chan}, 'i': wstask, 'v': v, 'u': u}\n",
    "            \n",
    "            c1 = [{'c': c2, 'p': p}]\n",
    "        #Generate task for measuring the voltage, must be {\"i\": sessionid, \"t\": \"request\", \"c\": [{\"c\": \"getItem\", \"p\": {\"p\": {\"l\": \"0\", \"a\": \"0\", \"c\": \"7\"}, \"i\": \"Status.voltageMeasure\", \"v\": \"\", \"u\": \"\"}}]}\n",
    "        elif wstask == iCStasks.VMEAS:\n",
    "            c2 = 'getItem'\n",
    "            [line, add, chan] = [str(i) for i in eloc]\n",
    "            item = wstask\n",
    "            v = ''\n",
    "            u = ''\n",
    "            p = {'p': {'l': line, 'a': add, 'c': chan}, 'i': wstask, 'v': v, 'u': u}\n",
    "            \n",
    "            c1 = [{'c': c2, 'p': p}]\n",
    "            \n",
    "    #The generated task (see iCS2 docs for unclear discussion of format)\n",
    "    gentask = {'i': i, 't': t1, 'c': c1, 'r': r}\n",
    "    \n",
    "    return gentask\n",
    "\n",
    "#A function to execute websocket tasks (usually generated with \"wstaskgen\")\n",
    "def executews(task, responselimit = 5):\n",
    "    \n",
    "    #The session ID is a global variable\n",
    "    global sessionid\n",
    "    \n",
    "    #Verify websocket has been created\n",
    "    try:\n",
    "        ws\n",
    "    except NameError:\n",
    "        #If socket has not been created, create it\n",
    "        ws = websocket.create_connection('ws://'+ip+':'+wsport)\n",
    "        \n",
    "    #If session ID exists, one can use the websocket connection\n",
    "    try:\n",
    "        sessionid\n",
    "    #If session ID is not defined, use websocket to initiate session\n",
    "    except NameError:\n",
    "        #If executing a login command, don't establiash a connection\n",
    "        if task['t'] == 'login':\n",
    "            pass\n",
    "        #Otherwise, establish a connection\n",
    "        else:\n",
    "            #Open websocket connection\n",
    "            ws.send(json.dumps(wstaskgen(stuct = 'login')))\n",
    "            #Get the session ID\n",
    "            sessionid = json.loads(ws.recv())['i']\n",
    "            #Set a flag to we don't make two connections\n",
    "            loginflag = True\n",
    "            print(\"No existing session found. Websocket communication established\")\n",
    "    \n",
    "    #Prepare data packet\n",
    "    packet = json.dumps(task)\n",
    "    \n",
    "    #For login task\n",
    "    if task['t'] == 'login':\n",
    "        if loginflag == True:\n",
    "            #If the flag is true, login has occured\n",
    "            pass\n",
    "        else:\n",
    "            #Send data packet\n",
    "            ws.send(packet)\n",
    "            sessionid = json.loads(ws.recv())['i']\n",
    "            print(\"Websocket communication sucessfully established\")\n",
    "        response = None\n",
    "    \n",
    "    #For logout task\n",
    "    elif task['t'] == 'logout':\n",
    "        #Send data packet\n",
    "        ws.send(packet)\n",
    "        print(\"Websocket server logout completed\")\n",
    "        ws.close()\n",
    "        print(\"Websocket closed\")\n",
    "        response = None\n",
    "    \n",
    "    #For request task\n",
    "    elif task['t'] == 'request':\n",
    "        #Setting a value \n",
    "        if task['c'][0]['c'] == 'setItem':\n",
    "            #Send data packet\n",
    "            ws.send(packet)\n",
    "            response = None\n",
    "        #Requesting a value\n",
    "        elif task['c'][0]['c'] == 'getItem':\n",
    "            #Send data packet\n",
    "            ws.send(packet)\n",
    "            #Receive response\n",
    "            #response = json.loads(ws.recv())\n",
    "            \n",
    "            reclimit = 0\n",
    "            while reclimit < responselimit:\n",
    "                received = json.loads(ws.recv())            \n",
    "                response = intrespws(received, task)\n",
    "                if response == None:\n",
    "                    reclimit += 1\n",
    "                    if reclimit == responselimit - 1:\n",
    "                        print('No response for iCS2, check connection')\n",
    "                        reclimit = responselimit\n",
    "                else:\n",
    "                    try:                \n",
    "                        received[0]['trigger']\n",
    "                        reclimit += 1\n",
    "                        if reclimit == responselimit - 1:\n",
    "                            print('Invalid request, check channel address')\n",
    "                            reclimit = responselimit\n",
    "                    except (KeyError, TypeError):\n",
    "                        reclimit = responselimit\n",
    "\n",
    "    #Any interpretation that does not require a response shouldn't return anything\n",
    "    if response == None:\n",
    "        measdata = None\n",
    "    else:\n",
    "        pass\n",
    "    \n",
    "    return response\n",
    "\n",
    "#Interperet websocket response for a given task (function called from executews)\n",
    "def intrespws(response, task):\n",
    "    #Interpret the response\n",
    "    try:\n",
    "        #Get the data packet from the respose\n",
    "        recdatadict = response[0]['c'][0]['d']\n",
    "    except (KeyError, TypeError):\n",
    "        print(\"No data packet returned from iCS2 (check channel address)\")\n",
    "        recdatadict = None\n",
    "\n",
    "    #Process the content of the data packet\n",
    "    if recdatadict != None:\n",
    "        #Extract the useful information from returned data\n",
    "        try:\n",
    "            datakeys = ['i','p','v','u','t']\n",
    "            #Get the data\n",
    "            recdata = [recdatadict.get(key) for key in datakeys]\n",
    "        except KeyError:\n",
    "            print(\"Unexpected data returned from iCS2\")\n",
    "            datakeys, recdata = None, None\n",
    "        \n",
    "        #Check the data is what was requested\n",
    "        if recdata != None and recdata[:2] == [task['c'][0]['p'].get(key) for key in ['i','p']]:\n",
    "            #Store the useful data\n",
    "            measdata = recdata[2:]\n",
    "        else:\n",
    "            measdata = None\n",
    "            print('Returned data different from requested information')\n",
    "    else:\n",
    "        measdata = None\n",
    "    \n",
    "    return measdata"
   ]
  },
  {
   "cell_type": "code",
   "execution_count": null,
   "metadata": {},
   "outputs": [],
   "source": [
    "executews(wstaskgen([0,0,8], wstask = iCStasks.VMEAS))"
   ]
  },
  {
   "cell_type": "code",
   "execution_count": null,
   "metadata": {},
   "outputs": [],
   "source": [
    "ws.close()"
   ]
  },
  {
   "cell_type": "code",
   "execution_count": 13,
   "metadata": {},
   "outputs": [
    {
     "data": {
      "text/plain": [
       "True"
      ]
     },
     "execution_count": 13,
     "metadata": {},
     "output_type": "execute_result"
    }
   ],
   "source": [
    "ws.connected"
   ]
  },
  {
   "cell_type": "code",
   "execution_count": 21,
   "metadata": {},
   "outputs": [],
   "source": [
    "def testset(V):\n",
    "    return wstaskgen([0,0,0], V)"
   ]
  },
  {
   "cell_type": "markdown",
   "metadata": {},
   "source": [
    "### The example below demonstrates that the session ID for websocket and API is interchangable"
   ]
  },
  {
   "cell_type": "code",
   "execution_count": 17,
   "metadata": {},
   "outputs": [
    {
     "data": {
      "text/plain": [
       "180"
      ]
     },
     "execution_count": 17,
     "metadata": {},
     "output_type": "execute_result"
    }
   ],
   "source": [
    "#Create a session ID\n",
    "try:\n",
    "    sessionid\n",
    "except NameError:\n",
    "    #Create a session ID via the API, not via websocket\n",
    "    r = requests.get('http://'+ip+'/api/login/'+usr+'/'+passwd)\n",
    "    try:\n",
    "        sessionid = r.json()['i']\n",
    "        print(\"Session successfully created\")\n",
    "    except KeyError:\n",
    "        sessionid = None\n",
    "        print(\"Session not created. Check password or iCS2 connection\")\n",
    "else:\n",
    "    pass\n",
    "\n",
    "#Open the websocket\n",
    "ws = websocket.create_connection(\"ws://192.168.68.237:8080\")\n",
    "#Test\n",
    "ws.send(json.dumps(wstaskgen([0,0,0], 0)))"
   ]
  },
  {
   "cell_type": "code",
   "execution_count": 29,
   "metadata": {},
   "outputs": [],
   "source": [
    "ws.send(json.dumps(wstaskgen(stuct = 'login')))\n",
    "WSsessionid = json.loads(ws.recv())['i']"
   ]
  },
  {
   "cell_type": "code",
   "execution_count": 39,
   "metadata": {},
   "outputs": [],
   "source": [
    "try:\n",
    "    sessionid\n",
    "#If session ID is not defined, use websocket to initiate session\n",
    "except NameError:\n",
    "    #Open websocket connection\n",
    "    ws.send(json.dumps(wstaskgen(stuct = 'login')))\n",
    "    sessionid = json.loads(ws.recv())['i']\n",
    "    loginflag = True\n",
    "    print(\"Websocket communication sucessfully established, 1\")"
   ]
  },
  {
   "cell_type": "code",
   "execution_count": 42,
   "metadata": {},
   "outputs": [
    {
     "data": {
      "text/plain": [
       "str"
      ]
     },
     "execution_count": 42,
     "metadata": {},
     "output_type": "execute_result"
    }
   ],
   "source": [
    "type(sessionid)"
   ]
  },
  {
   "cell_type": "code",
   "execution_count": null,
   "metadata": {},
   "outputs": [],
   "source": [
    "#Define functions for communicating with ISEG iCS\n",
    "class iCS2(object):\n",
    "    \n",
    "    #Set attributes\n",
    "    def __init__(self, chid, address, limit, setpoint = 0, toset = 0, active = False, measured = None):\n",
    "        self.chid = chid #Channel ID\n",
    "        ##self.address = address #Channel location [line, address, channel]\n",
    "        self.address = address #Channel location {'l': line, 'a': address, 'c': channel}\n",
    "        self.limit = limit #Channel limit\n",
    "        self.setpoint = setpoint #Current channel setpoint\n",
    "        self.toset = toset #Value to set when setting multiple electrodes\n",
    "        self.active = active #Is the channel active\n",
    "        self.powered = powered #Is the channel active\n",
    "        self.measured = measured #Last measured voltage\n",
    "        \n",
    "    #Function for powering electrodes\n",
    "    def power(self, turn_on = True):\n",
    "        if turn_on == True:\n",
    "            value = 1\n",
    "        elif turn_on == False:\n",
    "            value = 0\n",
    "            \n",
    "        exectureWSrequest(generateWSrequest(self, value, wstask = iCStasks.POWER))\n",
    "        \n",
    "    \n",
    "    #Function for setting the voltage of a single electrode\n",
    "    def setvoltage(self, voltage=0, units='V', useAPI = False):\n",
    "        #Set the voltage via API\n",
    "        if useAPI == True:\n",
    "            interpretAPIresponse(exectureAPIrequest(generateAPIrequest(self, iCStasks.VSET, voltage, units)))\n",
    "        #Set voltage over websocket\n",
    "        else:\n",
    "            exectureWSrequest(generateWSrequest(self, voltage))\n",
    "        if self.setpoint == voltage:\n",
    "            print(\"Voltage of {} successfully set to {} {}\".format(self.chid, voltage, units))\n",
    "        else:\n",
    "            print(\"Voltage of {} not updated\".format(self.chid))\n",
    "        \n",
    "    #Function for measuring the voltage of a single electrode\n",
    "    def measurevoltage(self, useAPI = False):\n",
    "        #Measure the voltage using the API (slow)\n",
    "        if useAPI == True:\n",
    "            vmeas = interpretAPIresponse(exectureAPIrequest(generateAPIrequest(self,iCStasks.VMEAS)))\n",
    "        #Get the voltage via websocket\n",
    "        else:\n",
    "            vmeas = exectureWSrequest(generateWSrequest(self, wstask = iCStasks.VMEAS))\n",
    "        \n",
    "        self.measured = float(vmeas[0])\n",
    "        if vmeas != None:\n",
    "            print('The returned voltage was {} V [{}]'.format(vmeas[0],timestampconvert(time.time())))\n",
    "        else:\n",
    "            print('No voltage was returned')\n"
   ]
  },
  {
   "cell_type": "code",
   "execution_count": 139,
   "metadata": {},
   "outputs": [],
   "source": [
    "testobj = {'c': [{'c': 'getItem',\n",
    "   'p': {'i': 'Status.runningState',\n",
    "    'p': {'a': '*', 'c': '*', 'l': '*'},\n",
    "    'u': '',\n",
    "    'v': ''}}],\n",
    " 'i': '55004ed5d0f14-9',\n",
    " 'r': 'websocket',\n",
    " 't': 'request'}"
   ]
  },
  {
   "cell_type": "code",
   "execution_count": 140,
   "metadata": {},
   "outputs": [
    {
     "data": {
      "text/plain": [
       "'request'"
      ]
     },
     "execution_count": 140,
     "metadata": {},
     "output_type": "execute_result"
    }
   ],
   "source": [
    "testobj['t']"
   ]
  },
  {
   "cell_type": "code",
   "execution_count": 142,
   "metadata": {},
   "outputs": [
    {
     "data": {
      "text/plain": [
       "'getItem'"
      ]
     },
     "execution_count": 142,
     "metadata": {},
     "output_type": "execute_result"
    }
   ],
   "source": [
    "testobj['c'][0]['c']"
   ]
  },
  {
   "cell_type": "code",
   "execution_count": 144,
   "metadata": {},
   "outputs": [
    {
     "data": {
      "text/plain": [
       "True"
      ]
     },
     "execution_count": 144,
     "metadata": {},
     "output_type": "execute_result"
    }
   ],
   "source": [
    "ws.connected"
   ]
  },
  {
   "cell_type": "code",
   "execution_count": null,
   "metadata": {},
   "outputs": [],
   "source": [
    "interpretWSresponse(response, task)"
   ]
  }
 ],
 "metadata": {
  "kernelspec": {
   "display_name": "Python 3",
   "language": "python",
   "name": "python3"
  },
  "language_info": {
   "codemirror_mode": {
    "name": "ipython",
    "version": 3
   },
   "file_extension": ".py",
   "mimetype": "text/x-python",
   "name": "python",
   "nbconvert_exporter": "python",
   "pygments_lexer": "ipython3",
   "version": "3.7.3"
  }
 },
 "nbformat": 4,
 "nbformat_minor": 4
}
