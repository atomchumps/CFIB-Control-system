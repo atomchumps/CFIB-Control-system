{
 "cells": [
  {
   "cell_type": "code",
   "execution_count": 70,
   "metadata": {},
   "outputs": [],
   "source": [
    "#!/usr/bin/env python\n",
    "\n",
    "'''\n",
    "CEM counter plot.py: A program measuring the count rate from the channel eletron multiplier and plotting it in real time.\n",
    "A. J. McCulloch, November 2018\n",
    "\n",
    "####################################################################################################\n",
    "\n",
    "Largely built from previous code; however a useful resource is given below:\n",
    "Parts taken from https://github.com/MarcoForte/PyDAQmx_Helper/blob/master/pydaqmx_helper/counter.py\n",
    "'''\n",
    "\n",
    "####################################################################################################\n",
    "# Import modules\n",
    "####################################################################################################\n",
    "\n",
    "from PyDAQmx import * #PyDAQmx module for working with the NI DAQ\n",
    "import ctypes #Module required for creating C type ojects - required for some PyDAQmx operations\n",
    "import time #Time access and conversions\n",
    "import zmq # Used for ZeroMQ distributed messaging (TCP interface with high-finesse wavemeter)\n",
    "from scipy import constants # Used for scientif evaluations\n",
    "from pylab import * #For interactive calculations and plotting\n",
    "from CFIBfunctions import * #Function definitions\n",
    "\n",
    "####################################################################################################\n",
    "# Define classes\n",
    "####################################################################################################\n",
    "\n",
    "# A mysterious class which seems to be required for live plotting (legacy code from R. Speirs, 2018)\n",
    "class DataSaver:\n",
    "    \"\"\" I just needed to be able to access an array inside some strange matplotlip function \"\"\"\n",
    "    def __init__(self, data = []):\n",
    "        self.data = data\n",
    "\n",
    "####################################################################################################\n",
    "# AOsimple class for simple analogue output\n",
    "class AOsimple:\n",
    "    #Initialise the analogue out task\n",
    "    def __init__(self, ao_physchan = NI_hardware_addresses['AO01'], V_default = 0):\n",
    "        self.task = Task() #Define the task as Task()\n",
    "        self.ao_physchan = ao_physchan #Define the analogue output physical channel\n",
    "        self.voltage = V_default #Set the default voltage\n",
    "        self.task.CreateAOVoltageChan(ao_physchan,\"\",-10.0,10.0,DAQmx_Val_Volts,None) #Set the analogu output task\n",
    "\n",
    "    #Set the AO voltage\n",
    "    def setvoltage(self, value, confirm = False):\n",
    "        #Write the voltage\n",
    "        self.task.WriteAnalogF64(1,1,10.0,DAQmx_Val_GroupByChannel,array(float(value)),None,None)\n",
    "        #Update the voltage attribute\n",
    "        self.voltage = value\n",
    "        #Print a confimation if required\n",
    "        if confirm == True:\n",
    "            #Figure out which AO channel is being addressed\n",
    "            chan = keyfromvalue(NI_hardware_addresses, self.ao_physchan)\n",
    "            print(\"Channel {} was set to {} V\".format(chan, value))\n",
    "\n",
    "    #Clear the task\n",
    "    def clear(self, zero = True, quiet = False):\n",
    "        #Zero the channel\n",
    "        if zero == True:\n",
    "            self.setvoltage(0, True)\n",
    "        #Clear the task\n",
    "        self.task.ClearTask()\n",
    "        if quiet == False:\n",
    "            print(\"Analogue output task cleared\")\n",
    "\n",
    "####################################################################################################\n",
    "# AIsimple class for simple analogue input reading\n",
    "class AIsimple:\n",
    "    def __init__(self, samples = 10, sample_rate = 10000, ai_physchan = NI_hardware_addresses['AI01'], read_most_recent = False):\n",
    "        self.task = Task() #Define the task as Task()\n",
    "        self.samples = samples #Number of samples per channel\n",
    "        self.sample_rate = sample_rate #Sampling rate of the analogue input\n",
    "        self.ai_physchan = ai_physchan #Physical address of the analogue input channel\n",
    "        self.read = ctypes.c_int32() #Make a ctype to store the measurement\n",
    "        self.data = np.zeros(self.samples, dtype=np.float64) #Make a data array\n",
    "        self.task.CreateAIVoltageChan(self.ai_physchan, '', DAQmx_Val_Cfg_Default, -10.0, 10.0, DAQmx_Val_Volts, None) #Create the AI task\n",
    "        self.buffer_size = 10000 #NOTE: Infrequent measurement/insufficient buffer size will cause overflow!\n",
    "        self.task.CfgSampClkTiming('', self.sample_rate, DAQmx_Val_Rising, DAQmx_Val_ContSamps, self.buffer_size) #Set the sampling of the task\n",
    "        #This is legacy code (R. Speirs, 2018), not certain of functionality\n",
    "        if read_most_recent:\n",
    "            self.task.SetReadRelativeTo(DAQmx_Val_MostRecentSamp)#be careful with this. Depends what you want to do.\n",
    "            #self.task.SetReadOffset(-self.samples)\n",
    "\n",
    "    #Measure the analogue input. Task is started and stopped to avoid buffer overflow\n",
    "    def readvoltage(self, returnmean = True):\n",
    "        #Start the task\n",
    "        self.task.StartTask()\n",
    "        #Perform the measurement\n",
    "        self.task.ReadAnalogF64(self.samples, 10.0, DAQmx_Val_GroupByScanNumber, self.data, self.data.size, ctypes.byref(self.read), None)\n",
    "        #Return the mean of the measured values\n",
    "        if returnmean == True:\n",
    "            toreturn = self.data.mean()\n",
    "        #Retrun an array of measured values\n",
    "        elif returnmean == False:\n",
    "            toreturn = self.data\n",
    "        #Stop the task\n",
    "        self.task.StopTask()\n",
    "        return toreturn\n",
    "\n",
    "    #Clear the task\n",
    "    def close(self, quiet = False):\n",
    "        self.task.ClearTask()\n",
    "        if quiet == False:\n",
    "            print(\"Analogue input task cleared\")\n",
    "        elif quiet == True:\n",
    "            pass\n",
    "\n",
    "####################################################################################################\n",
    "# Counter class for defining counter objects\n",
    "class Counter:\n",
    "    #Initialise the counting task\n",
    "    def __init__(self, ctr_physchan = NI_hardware_addresses['Counter 1']):\n",
    "        self.ctr_physchan = ctr_physchan #Define the physical channel for the coutner\n",
    "        self.task = Task() #Define the task as Task()\n",
    "        self.task.CreateCICountEdgesChan(ctr_physchan, '', DAQmx_Val_Rising, 0, DAQmx_Val_CountUp) #Set the counting task\n",
    "        self.cnt = (ctypes.c_ulong*4)() #Initialise the count - must be unsigned long!\n",
    "        ctypes.cast(self.cnt, ctypes.POINTER(ctypes.c_ulong))  #Use ctypes cast to constuct a pointer\n",
    "        self.count = 0 #The most recent count measurement\n",
    "        self.freq = 0 #The most recent frequency measurement\n",
    "        self.time = time.time() #Time of the last measurement\n",
    "\n",
    "    #Start the counter\n",
    "    def start(self):\n",
    "        #count_data = (ctypes.c_ulong*1)()\n",
    "        #ctypes.cast(count_data, ctypes.POINTER(ctypes.c_ulong))\n",
    "        self.task.StartTask()\n",
    "        print(\"DAQ is armed and counting...\")\n",
    "\n",
    "    #Return a count without stopping the counter\n",
    "    def getCount(self, totalcount = False, sample_rate = 0, samples = 1):\n",
    "        #Initialise list\n",
    "        meas = []\n",
    "        #Perform measurement to initialise the attributes\n",
    "        self.task.ReadCounterScalarU32(10.0, self.cnt, None)\n",
    "        #Update the count attribute\n",
    "        self.count = self.cnt[0]\n",
    "        #Update the time attribute\n",
    "        self.time = time.time()\n",
    "        #Include a pause to allow for sampling at a particular rate\n",
    "        if sample_rate > 0:\n",
    "            time.sleep(1/sample_rate)\n",
    "        #Loop over the number of samples\n",
    "        for i in range(samples):\n",
    "            #Read the counter\n",
    "            self.task.ReadCounterScalarU32(10.0, self.cnt, None)\n",
    "            #Update the time attribute\n",
    "            self.time = time.time()\n",
    "            #Return either the total count (from start) or since last measurement\n",
    "            #Option 1: The counts since start\n",
    "            if totalcount == True:\n",
    "                value = self.cnt[0]\n",
    "            #Option 2: The coutns since last count measurement (default)\n",
    "            elif totalcount == False:\n",
    "                #Difference between the measured count (since start) and previous measurment (since start)\n",
    "                value = self.cnt[0] - self.count\n",
    "\n",
    "            #Update the count attribute\n",
    "            self.count = self.cnt[0]\n",
    "            #Append the measured value\n",
    "            meas.append(int(value))\n",
    "            \n",
    "            #Include a pause to allow for sampling at a particular rate\n",
    "            if sample_rate > 0:\n",
    "                time.sleep(1/sample_rate)\n",
    "        if samples == 1:\n",
    "            meas = meas[0]\n",
    "        return meas\n",
    "\n",
    "    #Return a frequency without stopping the counter\n",
    "    def getfreq(self, sample_rate = 0, samples = 1):\n",
    "        #Initialise list\n",
    "        meas = []\n",
    "        #Perform measurement to initialise the attributes\n",
    "        self.task.ReadCounterScalarU32(10.0, self.cnt, None)\n",
    "        #Update the count attribute\n",
    "        self.count = self.cnt[0]\n",
    "        #Update the time attribute\n",
    "        self.time = time.time()\n",
    "        #Include a pause to allow for sampling at a particular rate\n",
    "        if sample_rate > 0:\n",
    "            time.sleep(1/sample_rate)\n",
    "        #Loop over the number of samples\n",
    "        for i in range(samples):\n",
    "            #Time since last measurement\n",
    "            t_old = self.time\n",
    "            #Read the counter\n",
    "            self.task.ReadCounterScalarU32(10.0, self.cnt, None)\n",
    "            #Update the time attribute\n",
    "            self.time = time.time()\n",
    "            #Difference between the measured count (since start) and previous measurment (since start)\n",
    "            numcounts = self.cnt[0] - self.count\n",
    "            #Calculate the count rate\n",
    "            value = numcounts/(self.time-t_old)\n",
    "            #Update the count attribute\n",
    "            self.freq = value\n",
    "            #Update the count attribute\n",
    "            self.count = self.cnt[0]\n",
    "            #Append the measured value\n",
    "            meas.append(value)\n",
    "            #Include a pause to allow for sampling at a particular rate\n",
    "            if sample_rate > 0:\n",
    "                time.sleep(1/sample_rate)\n",
    "                \n",
    "        if samples == 1:\n",
    "            meas = meas[0]\n",
    "        return meas\n",
    "\n",
    "    #Stop the counter and return the count\n",
    "    def stop(self, totalcount = False):\n",
    "        #Get the counter value\n",
    "        value = self.getCount(totalcount)\n",
    "        #Stop the task\n",
    "        self.task.StopTask()\n",
    "        print(\"DAQ is armed but no longer counting\")\n",
    "        return value\n",
    "\n",
    "    #Stop the counter and clear the task\n",
    "    def close(self):\n",
    "        self.task.StopTask()\n",
    "        self.task.ClearTask()\n",
    "        print(\"DAQ is no longer armed and tasks have been cleared\")\n",
    "\n",
    "####################################################################################################\n",
    "# wavemeter class for defining objects to interface with a high-finesse wavemeter \n",
    "        \n",
    "class wavemeter:\n",
    "    \n",
    "    # Initialise the wavemeter polling object\n",
    "    def __init__(self, address, port = '5678'):\n",
    "        self.address = address # LAN address for TCP polling (IP address of wavemeter machine)\n",
    "        self.port = port # Port for TCP polling\n",
    "        self.wavelength = None # Last measured wavelength\n",
    "        self.ctx = zmq.Context() # Create a ZMQ Context\n",
    "        self.sub = self.ctx.socket(zmq.SUB) # Set the ZMQ socket object\n",
    "        self.poller = zmq.Poller() # Create a poller\n",
    "        \n",
    "    # Initialise the subscription \n",
    "    #@staticmethod\n",
    "    def initialise(self):\n",
    "        self.sub.setsockopt(zmq.SUBSCRIBE, b'L1') # Set the SUB socket to the 'data' topic (needs to be a byte string!)\n",
    "        self.sub.connect('tcp://' + self.address + ':' + self.port) # Point to the publisher (currently on the atomchumps network)\n",
    "        self.poller.register(self.sub, zmq.POLLIN) # Set a ZMQ socket for monitoring\n",
    "    \n",
    "    # Return the current wavelength\n",
    "    def getwavelength(self, verbose = False):\n",
    "        # Confirm that the wavelength is being queried\n",
    "        if verbose == True:\n",
    "            print(\"Listening for publications\")\n",
    "        \n",
    "        # Need to ensure that the queue has been flushed before retrieving wavelength\n",
    "        while True: # Flush\n",
    "            poll_dict = dict(self.poller.poll(0)) # Get the data from the poll\n",
    "            if self.sub in poll_dict and poll_dict[self.sub] == zmq.POLLIN:\n",
    "                # recieve message straight away just to remove it from the queue\n",
    "                self.sub.recv_multipart()\n",
    "            else: # Retrieve\n",
    "                # when there is nothing left in the queue, wait for the next message to come through, and use that one\n",
    "                msg = self.sub.recv_multipart() # Get the message\n",
    "                self.wavelength = float(bytes.decode(msg[1])) # Extract the wavelength and update the lambda attribute\n",
    "                if verbose == True:\n",
    "                    print(\"Retrieved wavelength: {} nm\".format(self.wavelength))\n",
    "                break # Stop looking for broadcasts\n",
    "                \n",
    "####################################################################################################\n",
    "# Define functions\n",
    "####################################################################################################\n",
    "        \n",
    "####################################################################################################\n",
    "# Functions for performing ramps\n",
    "\n",
    "# Generate a linear array of length points between minval and maxval\n",
    "def makeramp(minval, maxval, points):\n",
    "    ramp = np.linspace(minval, maxval, points)\n",
    "    return ramp\n",
    "\n",
    "# Execute an AO ramp on a channel, ranging between [minval, maxval] in points steps. Dwell and slew are ramp parameters and showplot is for visualisation\n",
    "def executeAOramp(channel, minval, maxval, points, dwell, slew = 0, slewpoints = 5, showplot = True, wavereport = False, verbose = False):\n",
    "    if verbose == True: #Start the timer\n",
    "        t_start = time.time()\n",
    "    # Generate the AO task\n",
    "    try:\n",
    "        # This will restart cleared tasks\n",
    "        if str(rampAO.task) == 'Invalid or cleared Task': # rampAO returns a PyDAQmx.Task.Task object (not a string)\n",
    "            rampAO = AOsimple(channel) # Make the task\n",
    "    except NameError:\n",
    "        # This will start new tasks\n",
    "        rampAO = AOsimple(channel) # Make the task\n",
    "    # Generate the required voltage ramp to feed to the AO\n",
    "    vramp = makeramp(minval, maxval, points)\n",
    "    vramp = np.insert(vramp, 0, 0) # Insert a zero start value\n",
    "    vramp = np.append(vramp, 0) # Append a zero end value\n",
    "\n",
    "    # Ramp parameters\n",
    "    dwelltime = dwell # Dwell time during wavelength scan\n",
    "    slewtime = slew # Time for slewing between setpoints\n",
    "    steptime = dwelltime + slewtime # Total time for a step (dwell and slew)\n",
    "    \n",
    "    if showplot == True:       \n",
    "        # Generate ramp plot\n",
    "        longramp = vramp # Make a copy of the ramp to augment with a slew\n",
    "        fullramp = [] # Initialise the array to store the time/voltage array\n",
    "        # Loop over the voltage set points to add a slew to the next ramp setpoint at the end\n",
    "        for i in range(len(longramp)-1):\n",
    "            vslew = list(zip(steptime * i + makeramp(0, slewtime, slewpoints),makeramp(longramp[i],longramp[i+1], slewpoints)))\n",
    "            fullramp.extend(vslew)\n",
    "\n",
    "        v, t = zip(*fullramp) # Make lists for plotting\n",
    "        # Make the plot\n",
    "        plt.step(v, t, where = 'post')\n",
    "        plt.xlabel('Time [s]')\n",
    "        plt.ylabel('Voltage [V]')\n",
    "        plt.show()\n",
    "    \n",
    "    # Optionally record the wavelength as scan is performed\n",
    "    if wavereport == True: # Initialise wavemeter polling\n",
    "        lambda_meas = wavemeter('192.168.68.43') # Define a wavemeter object (requires IP address of wavemeter machine)\n",
    "        lambda_meas.initialise() # Initialise the polling of the wavemeter\n",
    "        toreturn = [] # Initialise list to return\n",
    "    elif wavereport == False:\n",
    "        toreturn = None # Define toreturn to allow a general return statement\n",
    "        \n",
    "    # Ramp the laser wavelength \n",
    "    # Set ramp voltage and wait for a dwell time before changing\n",
    "    # Case 1: no slew. Simple ramp and pause\n",
    "    if slew == 0:\n",
    "        for voltage in vramp:\n",
    "            rampAO.setvoltage(voltage) # Set the AO voltage\n",
    "            t0 = time.time() # Record the time with voltage a vramp[i]\n",
    "            # If the wavelength is being recorded, split the pause to make the measurement\n",
    "            if wavereport == True: # Measure the wavelength halfway through the dwell\n",
    "                time.sleep(dwelltime/2) # Don't do anything for a time = dwelltime/2\n",
    "                lambda_meas.getwavelength() # Return the most recent measurement of the wavemeter\n",
    "                toreturn.append((voltage, lambda_meas.wavelength)) # Append toreturn with a tuple of voltage and measured wavelength         \n",
    "                tr = dwelltime - time.time() - t0 # remaining time for a complete dwell\n",
    "                if tr > 0: # Only pause if it is required to reach a full dwelltime\n",
    "                    time.sleep(tr) # Don't do anything for a time = tr\n",
    "            elif wavereport == False:\n",
    "                time.sleep(dwelltime) # Don't do anything for a time = dwelltime        \n",
    "    # Case 2: non-zero slew. Generate ramp between set points, ramp the (slew) voltage and then pause\n",
    "    elif slew > 0:\n",
    "        for i in range(len(vramp)-1):\n",
    "            toset = makeramp(vramp[i],vramp[i+1], slewpoints) # Create ramp between set points\n",
    "            # Ramp the voltage over the slew\n",
    "            for voltage in toset:\n",
    "                rampAO.setvoltage(voltage) # Set the AO voltage\n",
    "                time.sleep(slewtime/(slewpoints-1)) # Don't do anything for a time = slewtime/(slewpoints-1)\n",
    "            t0 = time.time() # Record the time with voltage a vramp[i]\n",
    "            # If the wavelength is being recorded, split the pause to make the measurement\n",
    "            if wavereport == True: # Measure the wavelength halfway through the dwell\n",
    "                time.sleep(dwelltime/2) # Don't do anything for a time = dwelltime/2\n",
    "                lambda_meas.getwavelength() # Return the most recent measurement of the wavemeter\n",
    "                if i < len(vramp)-2: # Don't record the last wavelength when the voltage is ramped back to zero\n",
    "                    toreturn.append((voltage, lambda_meas.wavelength)) # Append toreturn with a tuple of voltage and measured wavelength         \n",
    "                tr = dwelltime - time.time() + t0 # remaining time for a complete dwell\n",
    "                if tr > 0: # Only pause if it is required to reach a full dwelltime\n",
    "                    time.sleep(tr) # Don't do anything for a time = tr\n",
    "            elif wavereport == False:\n",
    "                time.sleep(dwelltime) # Don't do anything for a time = dwelltime \n",
    "    if verbose == True:            \n",
    "        print(\"Ramp completed, reseting voltage and clearing task\")\n",
    "    rampAO.setvoltage(0) # Zero the AO voltage (otherwise laser will have an offset)\n",
    "    # If verbose is true, make rampAO.clear print\n",
    "    if verbose == True:\n",
    "        q = False\n",
    "    elif verbose == False:\n",
    "        q = True\n",
    "    rampAO.clear(zero = False, quiet = q) #Clear the AO task (and zero the AO)\n",
    "    # If verbose is true, print the function runtime\n",
    "    if verbose == True:\n",
    "        t_expected = (dwell + slew) * points + slew # All points have a dwell, points-1 have slews but there are two additional slews\n",
    "        t_total = time.time()-t_start\n",
    "        print(\"The expected run time was {0:.2f} seconds and the actual run time was {1:.2f} seconds\".format(t_expected,t_total))\n",
    "    return toreturn\n",
    "\n",
    "####################################################################################################\n",
    "#Create a dynamically updating plot\n",
    "def makeplot():\n",
    "    t_span = 5\n",
    "    t_points = 200\n",
    "\n",
    "    fig1, ax1 = plt.subplots(1, 1, tight_layout=True)\n",
    "    line, = ax1.plot(linspace(-t_span, 0, t_points), zeros(t_points))\n",
    "    ax1.set_xlabel('Time (s)')\n",
    "    ax1.set_ylabel('Count rate (Hz)')\n",
    "    ax1.set_ylim(0, 2000)\n",
    "    ax1.set_xlim(-5, 0)\n",
    "    ax1.set_title('CEM count rate')\n",
    "    ax1.grid()\n",
    "\n",
    "    #Plot the ion rate in real time\n",
    "    sample_rate = t_points/t_span\n",
    "    read_rate = 20 #this is only approx. would be 50ms plot update rate\n",
    "    samples = int(sample_rate/read_rate)\n",
    "\n",
    "    #Initialise the counts\n",
    "    CEM_counts = Counter(NI_hardware_addresses['Counter 2'])\n",
    "    #Start the counter\n",
    "    CEM_counts.start()\n",
    "\n",
    "    saved = DataSaver()\n",
    "    saved.data_save = zeros(t_points)\n",
    "\n",
    "    def update_data(update_number):\n",
    "        #roll left to right\n",
    "        saved.data_save = roll(saved.data_save, -samples)\n",
    "        saved.data_save[-samples:] = CEM_counts.getfreq(sample_rate, samples)\n",
    "        line.set_ydata(saved.data_save)  # update the data\n",
    "        return line,\n",
    "\n",
    "    import matplotlib.animation as animation\n",
    "    print('Plotting transmission photodiode voltage. Close figure to end.')\n",
    "    ani = animation.FuncAnimation(fig1, update_data, interval=int(read_rate/2), blit=True)\n",
    "    plt.show()\n",
    "\n",
    "####################################################################################################\n",
    "####################################################################################################\n",
    "#Code starts here\n",
    "####################################################################################################\n",
    "####################################################################################################"
   ]
  },
  {
   "cell_type": "markdown",
   "metadata": {},
   "source": [
    "## Development and testing"
   ]
  },
  {
   "cell_type": "markdown",
   "metadata": {},
   "source": [
    "# Example usage"
   ]
  },
  {
   "cell_type": "markdown",
   "metadata": {},
   "source": [
    "### Analogue output"
   ]
  },
  {
   "cell_type": "code",
   "execution_count": null,
   "metadata": {},
   "outputs": [],
   "source": [
    "#Create the AO task\n",
    "analogueout = AOsimple(NI_hardware_addresses['AO01'])\n",
    "#Set the AO voltage\n",
    "analogueout.setvoltage(2.5, True)"
   ]
  },
  {
   "cell_type": "code",
   "execution_count": null,
   "metadata": {},
   "outputs": [],
   "source": [
    "#Clear the AO task (and zero the AO)\n",
    "analogueout.clear()"
   ]
  },
  {
   "cell_type": "markdown",
   "metadata": {},
   "source": [
    "### Analogue input"
   ]
  },
  {
   "cell_type": "code",
   "execution_count": 22,
   "metadata": {},
   "outputs": [
    {
     "data": {
      "text/plain": [
       "-0.0005527164634875593"
      ]
     },
     "execution_count": 22,
     "metadata": {},
     "output_type": "execute_result"
    }
   ],
   "source": [
    "#Create the AI task\n",
    "analoguein = AIsimple(ai_physchan = NI_hardware_addresses['AI31'])\n",
    "#Read the AI voltage\n",
    "analoguein.readvoltage()"
   ]
  },
  {
   "cell_type": "code",
   "execution_count": null,
   "metadata": {},
   "outputs": [],
   "source": [
    "#Clear the AI task\n",
    "analoguein.close()"
   ]
  },
  {
   "cell_type": "markdown",
   "metadata": {},
   "source": [
    "### Counter"
   ]
  },
  {
   "cell_type": "code",
   "execution_count": 2,
   "metadata": {},
   "outputs": [
    {
     "name": "stdout",
     "output_type": "stream",
     "text": [
      "DAQ is armed and counting...\n"
     ]
    }
   ],
   "source": [
    "# Initialise the counts\n",
    "CEM_counts = Counter(NI_hardware_addresses['Counter 2'])\n",
    "# Start the counter\n",
    "CEM_counts.start()"
   ]
  },
  {
   "cell_type": "code",
   "execution_count": 3,
   "metadata": {},
   "outputs": [
    {
     "data": {
      "text/plain": [
       "[51, 50, 54, 60, 60, 60, 50, 60, 60, 50]"
      ]
     },
     "execution_count": 3,
     "metadata": {},
     "output_type": "execute_result"
    }
   ],
   "source": [
    "# Return the count since last count. Set \"totalcount = True\" for count since start (or look at Counter.count attribute)\n",
    "CEM_counts.getCount(sample_rate = 20, samples = 10)"
   ]
  },
  {
   "cell_type": "code",
   "execution_count": 4,
   "metadata": {},
   "outputs": [
    {
     "data": {
      "text/plain": [
       "[999.9866487378289,\n",
       " 1003.7267849089252,\n",
       " 980.7016395282499,\n",
       " 1019.0388589558531,\n",
       " 1000.1122282716688,\n",
       " 999.0719832309085,\n",
       " 999.1338608936765,\n",
       " 992.3013905374924,\n",
       " 1000.2791866066744,\n",
       " 1000.4183611405946,\n",
       " 999.9246654047328,\n",
       " 999.7864225781846,\n",
       " 999.1382476855961,\n",
       " 999.9691654812331,\n",
       " 998.8816384853536,\n",
       " 995.5670333113378,\n",
       " 1009.1111847510792,\n",
       " 1000.0804330029646,\n",
       " 999.8436218700535,\n",
       " 1009.7262861755307]"
      ]
     },
     "execution_count": 4,
     "metadata": {},
     "output_type": "execute_result"
    }
   ],
   "source": [
    "# Return the frequency measured by the counter\n",
    "CEM_counts.getfreq(sample_rate = 20, samples = 20)"
   ]
  },
  {
   "cell_type": "code",
   "execution_count": null,
   "metadata": {},
   "outputs": [],
   "source": [
    "#Stop the counter and return the count \n",
    "CEM_counts.stop()"
   ]
  },
  {
   "cell_type": "code",
   "execution_count": null,
   "metadata": {},
   "outputs": [],
   "source": [
    "#Stop the counting task\n",
    "CEM_counts.close()"
   ]
  },
  {
   "cell_type": "markdown",
   "metadata": {},
   "source": [
    "### Ramp an analogue voltage"
   ]
  },
  {
   "cell_type": "code",
   "execution_count": 31,
   "metadata": {},
   "outputs": [
    {
     "data": {
      "image/png": "[encoded data removed]",
      "text/plain": [
       "<matplotlib.figure.Figure at 0x19a1ebef2b0>"
      ]
     },
     "metadata": {},
     "output_type": "display_data"
    },
    {
     "name": "stdout",
     "output_type": "stream",
     "text": [
      "Ramp completed, reseting voltage and clearing task\n",
      "Analogue output task cleared\n",
      "The expected run time was 6.25 seconds and the actual run time was 6.94 seconds\n"
     ]
    }
   ],
   "source": [
    "# Ramp an analogue voltage and return a plot with the expected voltage vs time\n",
    "executeAOramp(NI_hardware_addresses['AO02'], -1.5, 1.5, 25, 0.25, verbose = True)"
   ]
  },
  {
   "cell_type": "code",
   "execution_count": 32,
   "metadata": {},
   "outputs": [
    {
     "data": {
      "image/png": "[encoded data removed]",
      "text/plain": [
       "<matplotlib.figure.Figure at 0x19a1fe874a8>"
      ]
     },
     "metadata": {},
     "output_type": "display_data"
    }
   ],
   "source": [
    "# Ramp an analogue voltage with a slew for stabilisation and return a plot with the expected voltage vs time\n",
    "executeAOramp(NI_hardware_addresses['AO02'], -1.5, 1.5, 25, 0.25, 0.1, 5)"
   ]
  },
  {
   "cell_type": "markdown",
   "metadata": {},
   "source": [
    "### Wavelength measurement"
   ]
  },
  {
   "cell_type": "code",
   "execution_count": null,
   "metadata": {},
   "outputs": [],
   "source": [
    "# Define a wavemeter object (requires IP address of wavemeter machine)\n",
    "lambda_meas = wavemeter('192.168.68.43')\n",
    "# Initialise the polling of the wavemeter\n",
    "lambda_meas.initialise()"
   ]
  },
  {
   "cell_type": "code",
   "execution_count": null,
   "metadata": {},
   "outputs": [],
   "source": [
    "# Return the most recent measurement of the wavemeter (with verbose output for print statements)\n",
    "lambda_meas.getwavelength(verbose = True)"
   ]
  },
  {
   "cell_type": "markdown",
   "metadata": {},
   "source": [
    "#### Calibrate the wavelength against the applied trigger voltage"
   ]
  },
  {
   "cell_type": "code",
   "execution_count": 47,
   "metadata": {},
   "outputs": [],
   "source": [
    "# Ramp an analogue voltage with a slew for stabilisation and return a list of wavelengths recorded at each voltage\n",
    "v_lambda_calib = executeAOramp(NI_hardware_addresses['AO02'], -1.5, 1.5, 51, 0.5, 0.1, 10, showplot = False, wavereport = True)"
   ]
  },
  {
   "cell_type": "code",
   "execution_count": 177,
   "metadata": {},
   "outputs": [
    {
     "data": {
      "image/png": "[encoded data removed]",
      "text/plain": [
       "<matplotlib.figure.Figure at 0x19a20240320>"
      ]
     },
     "metadata": {},
     "output_type": "display_data"
    }
   ],
   "source": [
    "# Massage data into lists to be plotted\n",
    "v, l = zip(*v_lambda_calib) # Convert list of tuples to voltage and wavelength lists for plotting\n",
    "l0 = [x for x in v_lambda_calib if x[0] == 0][0][1] # Find the centre wavelength (V = 0)\n",
    "f0 = constants.c*1e9/l0 # Use central wavelength to calculate central frequency\n",
    "fd = [(constants.c*1e9/l[i] - f0)/1e9 for l in v_lambda_calib] # Make a list of frequency differences (from central frequency)\n",
    "\n",
    "# Make a plot of the data\n",
    "fig, ax1 = plt.subplots()\n",
    "\n",
    "# Plot 1: wavelength\n",
    "colour = 'C0'\n",
    "ax1.set_xlabel('Trigger voltage [V]')\n",
    "ax1.set_ylabel('Wavelength [nm]')\n",
    "wave = ax1.plot(v, l, color = colour, label = '$\\lambda$')\n",
    "\n",
    "ax2 = ax1.twinx() # instantiate a second axes that shares the same x-axis\n",
    "# Plot 2: frequency difference\n",
    "colour = 'C1'\n",
    "ax2.set_ylabel('Frequency differnece [2$\\pi$ GHz ]')\n",
    "freq = ax2.plot(v, fd, color = colour, label = '$\\Delta\\omega$')\n",
    "\n",
    "# Make the legend\n",
    "lns = wave + freq # Plots which require a legend\n",
    "labs = [l.get_label() for l in lns] # List of labels\n",
    "ax1.legend(lns, labs, loc=8) # Make a legend from the list of labels and place at the mid-base\n",
    "plt.title('Toptica ECDL ramp response')\n",
    "\n",
    "fig.tight_layout() # Otherwise the right y-label is slightly clipped\n",
    "fig.savefig('Toptica ECDL ramp.pdf', bbox_inches='tight') # Save a .pdf of the generated figure "
   ]
  },
  {
   "cell_type": "markdown",
   "metadata": {},
   "source": [
    "### Live plotting"
   ]
  },
  {
   "cell_type": "code",
   "execution_count": null,
   "metadata": {},
   "outputs": [],
   "source": [
    "#Make a animated plot of the count rate vs time\n",
    "makeplot()"
   ]
  },
  {
   "cell_type": "code",
   "execution_count": null,
   "metadata": {},
   "outputs": [],
   "source": []
  }
 ],
 "metadata": {
  "kernelspec": {
   "display_name": "Python 3",
   "language": "python",
   "name": "python3"
  },
  "language_info": {
   "codemirror_mode": {
    "name": "ipython",
    "version": 3
   },
   "file_extension": ".py",
   "mimetype": "text/x-python",
   "name": "python",
   "nbconvert_exporter": "python",
   "pygments_lexer": "ipython3",
   "version": "3.6.4"
  }
 },
 "nbformat": 4,
 "nbformat_minor": 2
}
